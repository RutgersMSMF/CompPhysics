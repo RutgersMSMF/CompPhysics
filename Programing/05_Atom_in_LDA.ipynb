{
 "cells": [
  {
   "cell_type": "markdown",
   "metadata": {},
   "source": [
    "# Solution of the atom within LDA"
   ]
  },
  {
   "cell_type": "markdown",
   "metadata": {},
   "source": [
    "In this excercise we will solve the multielectron atom in LDA approximation.\n",
    "\n",
    "We will test it on He and oxygen by computing the total energy and charge density.\n",
    "\n",
    "We will plot charge density and compute the total energy, which will be compared to the reference data at NIST database:\n",
    "https://www.nist.gov/pml/atomic-reference-data-electronic-structure-calculations/atomic-reference-data-electronic-7\n",
    "\n",
    "\n"
   ]
  },
  {
   "cell_type": "markdown",
   "metadata": {},
   "source": [
    "We want to solve the Schroedinger equation for an atom with nucleous charge Z. We will approximate electron-electron interaction with an effective potential, which is computed by so-called ”local density approximation” (LDA). In this theory, the classical (Hartree) potential is treated exactly, while the rest of the interaction is ”hidden” into approximate exchange-correlation functional. We will not go into details of this functional, we will just use it here.\n",
    "\n"
   ]
  },
  {
   "cell_type": "markdown",
   "metadata": {},
   "source": [
    "\n",
    "The Schroedinger equation we are solving is\n",
    "\\begin{eqnarray}\n",
    "(-\\frac{\\hbar^2}{2m}\\nabla^2-\\frac{Z e^2}{4\\pi\\varepsilon_0 r} + V_H(r) + V_{xc}(r))\\psi(\\vec{r})=E \\psi(\\vec{r})\n",
    "\\end{eqnarray}\n",
    "\n",
    "The first two terms are appearing in Hydrogen problem, and we already coded them. The Hartree is the electrostatic potential, and the exchange-correlation potential has an approximate form, which depends only the charge density of the system. We will use the module `excor.py`, where the function $V_{xc}(\\rho)$ is tabulated. We will use it as $V_{xc}(r)== V_{xc}(\\rho(r))$, corresponding to the local density approximation."
   ]
  },
  {
   "cell_type": "markdown",
   "metadata": {},
   "source": [
    "First we take the code from the Hydrogen project and repeat."
   ]
  },
  {
   "cell_type": "code",
   "execution_count": 1,
   "metadata": {},
   "outputs": [],
   "source": [
    "from scipy import *\n",
    "from scipy import integrate\n",
    "from scipy import optimize\n",
    "from numpy import *\n",
    "from pylab import *\n",
    "from numba import jit"
   ]
  },
  {
   "cell_type": "code",
   "execution_count": 2,
   "metadata": {},
   "outputs": [],
   "source": [
    "@jit(nopython=True)\n",
    "def Numerov(f, x0, dx, dh):\n",
    "    \"\"\" Given precumputed function f(x) solved the differential equation\n",
    "        x''(t) = f(t) x(t)\n",
    "        input: x0 = x(t=0), and dx = dx/dt(t=0)\n",
    "    \"\"\"\n",
    "    x = zeros(len(f))\n",
    "    x[0] = x0\n",
    "    x[1] = x0 + dh*dx\n",
    "    \n",
    "    h2 = dh**2\n",
    "    h12 = h2/12.\n",
    "    \n",
    "    w0 = x0*(1-h12*f[0])\n",
    "    w1 = x[1]*(1-h12*f[1])\n",
    "    xi = x[1]\n",
    "    fi = f[1]\n",
    "    for i in range(2,len(f)):\n",
    "        w2 = 2*w1-w0 + h2*fi*xi\n",
    "        fi = f[i]\n",
    "        xi = w2/(1-h12*fi)\n",
    "        x[i]=xi\n",
    "        (w0,w1) = (w1,w2)\n",
    "    return x\n",
    "\n",
    "@jit(nopython=True)\n",
    "def fShrod(En,l,R):\n",
    "    return l*(l+1.)/R**2 - 2./R - En\n",
    "\n",
    "def ComputeSchrod(En, R, l):\n",
    "    f = fShrod(En,l,R[::-1])\n",
    "    ur = Numerov(f, 0.0, -1e-7, -R[1]+R[0])[::-1]\n",
    "    norm = integrate.simps(ur**2, x=R)\n",
    "    return ur/sqrt(abs(norm))\n",
    "    \n",
    "def Shoot(En, R, l):\n",
    "    ur = ComputeSchrod(En, R, l)\n",
    "    ur = ur/R**l  # expecting urn \\propto R\n",
    "    f0,f1 = ur[0],ur[1]\n",
    "    f_at_0 = f0 + (f1-f0)*(0-R[0])/(R[1]-R[0]) # extrapolation to zero\n",
    "    return f_at_0\n",
    "\n",
    "def FindBoundStates(R, l, nmax, Esearch):\n",
    "    n=0\n",
    "    Ebnd=[]\n",
    "    u0 = Shoot(Esearch[0],R,l)\n",
    "    for i in range(1,len(Esearch)):\n",
    "        u1 = Shoot(Esearch[i],R,l)\n",
    "        if u0*u1 < 0:\n",
    "            #print 'Sign change at', Esearch[i-1], Esearch[i]\n",
    "            Ebound = optimize.brentq(Shoot,Esearch[i-1],Esearch[i],xtol=1e-15,args=(R,l))\n",
    "            Ebnd.append( (l,Ebound) )\n",
    "            if len(Ebnd)>nmax: break\n",
    "            n += 1\n",
    "            print('Found bound state at E=%14.9f' % Ebound)\n",
    "        u0 = u1\n",
    "    return Ebnd \n",
    "\n",
    "def cmpKey(x):\n",
    "    return x[1]*1000 + x[0]  # energy has large wait, but degenerate energy states are sorted by l\n",
    "\n",
    "def ChargeDensity(Bnd,R,Z):\n",
    "    rho = zeros(len(R))\n",
    "    N=0.\n",
    "    for (l,En) in Bnd:\n",
    "        ur = ComputeSchrod(En, R, l)\n",
    "        dN = 2*(2*l+1)\n",
    "        if N+dN <= Z:\n",
    "            ferm = 1.\n",
    "        else:\n",
    "            ferm = (Z-N)/float(dN)\n",
    "        drho = ur**2 * ferm * dN/(4*pi*R**2)\n",
    "        rho += drho\n",
    "        N += dN\n",
    "        print('adding state', (l,En), 'with fermi=', ferm)\n",
    "        if  N>=Z: break\n",
    "    return rho"
   ]
  },
  {
   "cell_type": "code",
   "execution_count": 3,
   "metadata": {},
   "outputs": [
    {
     "name": "stdout",
     "output_type": "stream",
     "text": [
      "Found bound state at E=  -0.999922109\n",
      "Found bound state at E=  -0.249990190\n",
      "Found bound state at E=  -0.111108201\n",
      "Found bound state at E=  -0.062498772\n",
      "Found bound state at E=  -0.039999314\n",
      "Found bound state at E=  -0.250000016\n",
      "Found bound state at E=  -0.111111117\n",
      "Found bound state at E=  -0.062500003\n",
      "Found bound state at E=  -0.039999959\n",
      "Found bound state at E=  -0.111111111\n",
      "Found bound state at E=  -0.062500000\n",
      "Found bound state at E=  -0.039999977\n",
      "Found bound state at E=  -0.062500000\n",
      "Found bound state at E=  -0.039999992\n",
      "adding state (0, -0.9999221089559623) with fermi= 1.0\n",
      "adding state (0, -0.24999019020653063) with fermi= 1.0\n",
      "adding state (1, -0.25000001561170354) with fermi= 1.0\n",
      "adding state (0, -0.11110820082299863) with fermi= 1.0\n",
      "adding state (1, -0.11111111678092336) with fermi= 1.0\n",
      "adding state (2, -0.11111111114690274) with fermi= 1.0\n"
     ]
    },
    {
     "data": {
      "image/png": "[encoded data removed]",
      "text/plain": [
       "<Figure size 432x288 with 1 Axes>"
      ]
     },
     "metadata": {
      "needs_background": "light"
     },
     "output_type": "display_data"
    }
   ],
   "source": [
    "%matplotlib inline\n",
    "\n",
    "Esearch = -1.2/arange(1,20,0.2)**2\n",
    "R = linspace(1e-8,100,2000)\n",
    "\n",
    "Z=28\n",
    "nmax = 5\n",
    "Bnd=[]\n",
    "for l in range(nmax-1):\n",
    "    Bnd += FindBoundStates(R,l,nmax-l,Esearch)\n",
    "Bnd = sorted(Bnd, key=cmpKey)\n",
    "\n",
    "z = 28. # like Ni atom\n",
    "\n",
    "rho = ChargeDensity(Bnd,R,Z)\n",
    "        \n",
    "plot(R, rho*(4*pi*R**2), label='charge density')\n",
    "xlim([0,25])\n",
    "legend(loc='best')\n",
    "show()"
   ]
  },
  {
   "cell_type": "markdown",
   "metadata": {},
   "source": [
    "## Hartree term\n",
    "\n",
    "The Hartree term is treated exactly in this approximation. It describes the electrostatic\n",
    "interaction of one electron with the cloud of all electrons (including the electron itself).\n",
    "Mathematically, this term is\n",
    "\\begin{eqnarray}\n",
    "&&   \\frac{1}{2}\\int d\\vec{r} d\\vec{r}' \\psi^\\dagger (\\vec{r})\\psi^\\dagger (\\vec{r}')\n",
    "   v_c(\\vec{r}-\\vec{r}') \\psi(\\vec{r}')\\psi(\\vec{r}) \\rightarrow\\\\\n",
    "&&   \\int d\\vec{r} \\psi^\\dagger(\\vec{r}) \\psi(\\vec{r}) \\int d\\vec{r}'\n",
    "   \\langle\\psi^\\dagger(\\vec{r}') \\psi(\\vec{r}')\\rangle v_c(\\vec{r}-\\vec{r}') \\equiv\n",
    "   \\int d\\vec{r} \\psi^\\dagger(\\vec{r}) V_{H}(\\vec{r}) \\psi(\\vec{r})\\nonumber\n",
    " \\end{eqnarray}\n",
    " with\n",
    " \\begin{equation}\n",
    " V_H(\\vec{r}) = 2 \\int d\\vec{r}' \\frac{\\rho(\\vec{r}')}{|\\vec{r}-\\vec{r}'|}\n",
    " \\end{equation}\n",
    "where $2$ is due to Rydberg units sinc $v_c = 2/r$.\n",
    "\n",
    "\n",
    "For any atom, the electron density is\n",
    "spherically symetric and hence $V_{H}$ depends only on radial\n",
    "distance. (In solids, the hartree potential should be expanded in\n",
    "spheric harmonics to sufficiently high $l$, maybe $l=6$)."
   ]
  },
  {
   "cell_type": "markdown",
   "metadata": {},
   "source": [
    "### Step 1: Using $\\rho(r)$ computed in previous homework, compute the Hartree potential.\n",
    "\n",
    "This is usually achieved by solving the Poisson equation. From\n",
    "clasical electrostatic we know\n",
    "\\begin{eqnarray}\n",
    "  \\nabla^2 V_{H}(\\vec{r}) = -8\\pi \\rho(\\vec{r})\n",
    "\\end{eqnarray}\n",
    "In Hartree approximation, we have\n",
    "\\begin{equation}\n",
    "\\frac{1}{r^2}\\frac{d}{dr}(r^2 \\frac{d V_H}{dr})= -8\\pi\\rho(r)  \n",
    "\\end{equation}\n",
    "which simplifies to\n",
    "\\begin{equation}\n",
    "  U^{''}(r) = -8\\pi r \\rho(r)\n",
    "\\end{equation}\n",
    "where $U(r) = V_{H}(r) r$.\n",
    "\n",
    "This second order differential equation has the following boundary\n",
    "conditions $U(0)=0$ and $U(\\infty)=2 Z$.\n",
    "\n",
    "The two point boundary problem does not require shooting because we\n",
    "know solution to the homogenous differential equation\n",
    "$U^{''}(r)=0$. The Hartree potential can be obtained from any\n",
    "particular solution by\n",
    "\\begin{equation}\n",
    "  U(r) = U_p(r) + \\alpha r\n",
    "\\end{equation}\n",
    "where $\\alpha = \\lim_{r\\rightarrow\\infty}(2 Z-U_{p}(r))/r$.\n"
   ]
  },
  {
   "cell_type": "code",
   "execution_count": 4,
   "metadata": {},
   "outputs": [],
   "source": [
    "def FuncForHartree(y,r,rhoSpline):\n",
    "    \"\"\" y = [U,U']\n",
    "        dy/dr = [U', -8*pi*r*rho(r)]\n",
    "    \"\"\"\n",
    "    return [y[1], -8*pi*r*rhoSpline(r)]"
   ]
  },
  {
   "cell_type": "code",
   "execution_count": 5,
   "metadata": {},
   "outputs": [
    {
     "data": {
      "image/png": "[encoded data removed]",
      "text/plain": [
       "<Figure size 432x288 with 1 Axes>"
      ]
     },
     "metadata": {
      "needs_background": "light"
     },
     "output_type": "display_data"
    }
   ],
   "source": [
    "from scipy import interpolate\n",
    "\n",
    "rhoSpline = interpolate.UnivariateSpline(R, rho,s=0)\n",
    "\n",
    "U0 = integrate.odeint(FuncForHartree, [0.0,0.5], R, args=(rhoSpline,))[:,0]\n",
    "alpha = (2*Z - U0[-1])/R[-1]\n",
    "U0 += alpha * R\n",
    "\n",
    "plot(R, U0)\n",
    "plot(R, ones(len(R))*2*Z)\n",
    "show()"
   ]
  },
  {
   "cell_type": "markdown",
   "metadata": {},
   "source": [
    "## Numerov again\n",
    "\n",
    "Poisson equation does not have the first order derivative, hence it can also be more efficiently solved by the Numerov algorithm.\n",
    "\n",
    "Recall the Numerov algorithm as appropriate for the Poisson equation\n",
    "\n",
    "\\begin{eqnarray}\n",
    "  x(h)+x(-h) = 2x(0)+h^2 (f(0)x(0)+u(0))+\\frac{2}{4!}h^4 x^{(4)}(0)+O(h^6)\n",
    "\\end{eqnarray}\n",
    "\n",
    "\n",
    "\\begin{equation}\n",
    "  x^{(4)}\\sim \\frac{u_{i+1}-2 u_i+u_{i-1}}{h^2}\n",
    "\\end{equation}\n",
    "\n",
    "Inserting the fourth order derivative into the above recursive equation (forth equation in his chapter), we\n",
    "get\n",
    "\n",
    "\\begin{equation}\n",
    "  x_{i+1}-2 x_i+x_{i-1}=h^2 u_i +\\frac{h^2}{12}(u_{i+1}-2 u_i+u_{i-1})\n",
    "\\end{equation}\n",
    "\n",
    "If we switch to a new variable $w_i=x_i-\\frac{h^2}{12}u_i$\n",
    "we are left with the following\n",
    "equation\n",
    "\n",
    "\\begin{equation}\n",
    "  w_{i+1} -2 w_i + w_{i-1} = h^2 u_i+O(h^6)\n",
    "\\end{equation}\n",
    "\n",
    "The variable $x$ needs to be recomputed at each step with\n",
    "$x_i=(w_i+\\frac{h^2}{12}u_i)$.\n"
   ]
  },
  {
   "cell_type": "code",
   "execution_count": 6,
   "metadata": {},
   "outputs": [],
   "source": [
    "@jit(nopython=True)\n",
    "def NumerovUP(U, x0, dx, dt):\n",
    "    x = zeros(len(U))\n",
    "    x[0] = x0\n",
    "    x[1] = dx*dt + x0\n",
    "    h2 = dt*dt\n",
    "    h12 = h2/12\n",
    "    w0 = x[0]-h12*U[0]\n",
    "    w1 = x[1]-h12*U[1]\n",
    "    Ui = U[1]\n",
    "    for i in range(2,len(U)):\n",
    "        w2 = 2*w1 - w0 + h2*Ui\n",
    "        Ui = U[i]\n",
    "        xi = w2 + h12*Ui\n",
    "        x[i] = xi\n",
    "        w0, w1 = w1, w2\n",
    "    return x"
   ]
  },
  {
   "cell_type": "code",
   "execution_count": 7,
   "metadata": {},
   "outputs": [],
   "source": [
    "ux = -8*pi*R*rho\n",
    "U2 = NumerovUP(ux, 0.0, 0.5, R[1]-R[0])\n",
    "alpha2 = (2*Z-U2[-1])/R[-1]\n",
    "U2 += alpha2 * R"
   ]
  },
  {
   "cell_type": "code",
   "execution_count": 8,
   "metadata": {},
   "outputs": [
    {
     "data": {
      "image/png": "[encoded data removed]",
      "text/plain": [
       "<Figure size 432x288 with 1 Axes>"
      ]
     },
     "metadata": {
      "needs_background": "light"
     },
     "output_type": "display_data"
    }
   ],
   "source": [
    "plot(R,U0)\n",
    "plot(R,U2);"
   ]
  },
  {
   "cell_type": "markdown",
   "metadata": {},
   "source": [
    "### Step1 routine HartreeU  \n",
    "For generic density the following routine will work:"
   ]
  },
  {
   "cell_type": "code",
   "execution_count": 9,
   "metadata": {},
   "outputs": [],
   "source": [
    "def HartreeU(R, rho, Zatom):\n",
    "    ux = -8*pi*R*rho\n",
    "    U2 = NumerovUP(ux, 0.0, 0.5, R[1]-R[0])\n",
    "    alpha2 = (2*Zatom-U2[-1])/R[-1]\n",
    "    U2 += alpha2 * R\n",
    "    return U2"
   ]
  },
  {
   "cell_type": "code",
   "execution_count": 10,
   "metadata": {},
   "outputs": [
    {
     "data": {
      "image/png": "[encoded data removed]",
      "text/plain": [
       "<Figure size 432x288 with 1 Axes>"
      ]
     },
     "metadata": {
      "needs_background": "light"
     },
     "output_type": "display_data"
    }
   ],
   "source": [
    "U2 = HartreeU(R,rho,Z)\n",
    "plot(R,U2);"
   ]
  },
  {
   "cell_type": "markdown",
   "metadata": {},
   "source": [
    "### Step 2 : Compute the exchange correlation potential.\n",
    "   \n",
    "Note that $V_{xc}(r)=V_{xc}(\\rho(r))$ is unquely determined by the electron charge density $\\rho(r)$. If we know $\\rho$, we can instantly compute $V_{xc}$ by the module provided parametrized function.\n",
    "   \n",
    "\n",
    "Download the module `excor.py` from\n",
    "http://www.physics.rutgers.edu/~haule/509/src_prog/python/homework5/\n",
    "and import it in your code.\n",
    "\n",
    "\n",
    "Instantiate the ExchangeCorrelation object by\n",
    "\n",
    "`exc = ExchangeCorrelation()`\n",
    "\n",
    "and used it, for example, by\n",
    "\n",
    "`exc.Vx(rs(rho[i]))+exc.Vc(rs(rho[i]))`\n",
    "\n",
    "where $r_s = ({4\\pi\\rho/3})^{-1/3}$.\n",
    "\n",
    "Be careful: The energy unit in \"excor.py\" is Hartree and not\n",
    "Rydergs. Hence, you need to multiply energy or potential by 2.\n",
    "\n"
   ]
  },
  {
   "cell_type": "code",
   "execution_count": 11,
   "metadata": {},
   "outputs": [],
   "source": [
    "from excor import ExchangeCorrelation\n",
    "exc = ExchangeCorrelation()\n",
    "\n",
    "@jit(nopython=True)\n",
    "def rs(rho):\n",
    "    \"1/rho = 4*pi*rs^3/3 => rs = (3/(4*pi*rho))**(1/3.)\"\n",
    "    if rho < 1e-100: return 1e100\n",
    "    return pow(3/(4*pi*rho),1/3.)"
   ]
  },
  {
   "cell_type": "code",
   "execution_count": 12,
   "metadata": {},
   "outputs": [
    {
     "data": {
      "image/png": "[encoded data removed]",
      "text/plain": [
       "<Figure size 432x288 with 1 Axes>"
      ]
     },
     "metadata": {
      "needs_background": "light"
     },
     "output_type": "display_data"
    }
   ],
   "source": [
    "Vxc = [2*exc.Vc(rs(rh)) + 2*exc.Vx(rs(rh)) for rh in rho]    \n",
    "\n",
    "Uks = U2 - 2*Z + Vxc*R\n",
    "\n",
    "plot(R, -Uks/2);"
   ]
  },
  {
   "cell_type": "markdown",
   "metadata": {},
   "source": [
    "\n",
    "### Step 3: Find bound states using Hartree and XC potential.\n",
    "\n",
    "Add the Hartree potential and the exchange-correlation potential to the Schroedinger equation and find\n",
    "  bound states of the atom.\n",
    "\n",
    "The Schroedinger equation is\n",
    " \\begin{equation}\n",
    "   u^{''}(r) = \\left(\\frac{l(l+1)}{r^2}-\\frac{2 Z}{r} + V_{H}(r)+V_{XC}(r)-\\varepsilon\\right)u(r)=0.\n",
    " \\end{equation}\n",
    "or\n",
    "  \\begin{equation}\n",
    "   u^{''}(r) = \\left(\\frac{l(l+1)}{r^2}+\\frac{U_H - 2 Z +r V_{XC}}{r}-\\varepsilon\\right)u(r)=0.\n",
    " \\end{equation}"
   ]
  },
  {
   "cell_type": "code",
   "execution_count": 13,
   "metadata": {},
   "outputs": [],
   "source": [
    "@jit(nopython=True)\n",
    "def fShrod(En,l,R, Uks):\n",
    "    return (l*(l+1.)/R +Uks)/R - En\n",
    "\n",
    "def ComputeSchrod(En, R, l,Uks):\n",
    "    f = fShrod(En,l,R[::-1],Uks[::-1])\n",
    "    ur = Numerov(f, 0.0, -1e-10, R[0]-R[1])[::-1]\n",
    "    norm = integrate.simps(ur**2, x=R)\n",
    "    return ur/sqrt(abs(norm))\n",
    "\n",
    "def Shoot(En, R, l, Uks):\n",
    "    ur = ComputeSchrod(En, R, l,Uks)\n",
    "    ur *= 1/R**l  # expecting urn \\propto R\n",
    "    f0,f1 = ur[0],ur[1]\n",
    "    f_at_0 = f0 + (f1-f0)*(0-R[0])/(R[1]-R[0]) # extrapolation to zero\n",
    "    return f_at_0"
   ]
  },
  {
   "cell_type": "code",
   "execution_count": 14,
   "metadata": {},
   "outputs": [],
   "source": [
    "def FindBoundStates(R, l, nmax, Esearch, Uks):\n",
    "    n=0\n",
    "    Ebnd=[]\n",
    "    u0 = Shoot(Esearch[0],R,l,Uks)\n",
    "    for i in range(1,len(Esearch)):\n",
    "        u1 = Shoot(Esearch[i],R,l,Uks)\n",
    "        if u0*u1 < 0:\n",
    "            Ebound = optimize.brentq(Shoot,Esearch[i-1],Esearch[i],xtol=1e-15,args=(R,l,Uks))\n",
    "            Ebnd.append( (l,Ebound) )\n",
    "            if len(Ebnd)>nmax: break\n",
    "            n += 1\n",
    "            print('Found bound state at E=%14.9f' % Ebound)\n",
    "        u0 = u1\n",
    "    return Ebnd "
   ]
  },
  {
   "cell_type": "code",
   "execution_count": 15,
   "metadata": {},
   "outputs": [
    {
     "name": "stdout",
     "output_type": "stream",
     "text": [
      "Found bound state at E=  -0.555322971\n",
      "Found bound state at E=  -0.206605857\n",
      "Found bound state at E=  -0.059520239\n",
      "Found bound state at E=  -0.004720150\n",
      "Found bound state at E=  -0.640986418\n",
      "Found bound state at E=  -0.243652142\n",
      "Found bound state at E=  -0.071991382\n",
      "Found bound state at E=  -0.007466669\n",
      "Found bound state at E=  -0.600054533\n",
      "Found bound state at E=  -0.217328796\n",
      "Found bound state at E=  -0.057702239\n",
      "Found bound state at E=  -0.558268879\n",
      "Found bound state at E=  -0.187465773\n"
     ]
    }
   ],
   "source": [
    "#R = linspace(1e-8,10,2**13+1)\n",
    "#Zatom = 8\n",
    "#E0=-1.2*Zatom**2\n",
    "#Eshift=0.5 # sometimes energies can be positive!!!                                                                                                                        \n",
    "#Esearch = -logspace(-4,log10(-E0+Eshift),200)[::-1] + Eshift\n",
    "\n",
    "\n",
    "Bnd=[]\n",
    "for l in range(nmax-1):\n",
    "    Bnd += FindBoundStates(R,l,nmax-l,Esearch,Uks)\n",
    "    \n",
    "Bnd = sorted(Bnd, key=cmpKey)"
   ]
  },
  {
   "cell_type": "markdown",
   "metadata": {},
   "source": [
    "\n",
    "### Step 4: Compute the new electron density\n",
    "by filling the lowest $Z$  eigenstatates."
   ]
  },
  {
   "cell_type": "code",
   "execution_count": 16,
   "metadata": {},
   "outputs": [],
   "source": [
    "# This is modified from Hydrogen\n",
    "def ChargeDensity(bst,R,Zatom,Uks):\n",
    "    rho = zeros(len(R))\n",
    "    N=0.\n",
    "    Ebs=0.\n",
    "    for (l,En) in bst:\n",
    "        ur = ComputeSchrod(En, R, l, Uks)\n",
    "        dN = 2*(2*l+1)\n",
    "        if N+dN <= Zatom:\n",
    "            ferm = 1.\n",
    "        else:\n",
    "            ferm = (Zatom-N)/float(dN)\n",
    "        drho = ur**2 * ferm * dN/(4*pi*R**2)\n",
    "        rho += drho\n",
    "        N += dN\n",
    "        Ebs += En * dN * ferm\n",
    "        print('adding state', (l,En/2), 'with fermi=', ferm)\n",
    "        if  N>=Zatom: break\n",
    "    return (rho,Ebs)"
   ]
  },
  {
   "cell_type": "code",
   "execution_count": 17,
   "metadata": {},
   "outputs": [
    {
     "name": "stdout",
     "output_type": "stream",
     "text": [
      "adding state (1, -0.3204932088844849) with fermi= 1.0\n",
      "adding state (2, -0.30002726657005885) with fermi= 1.0\n",
      "adding state (0, -0.27766148533971746) with fermi= 1.0\n",
      "adding state (3, -0.27913443951024725) with fermi= 0.7142857142857143\n"
     ]
    }
   ],
   "source": [
    "rho_new, Ebs = ChargeDensity(Bnd,R,Z,Uks)"
   ]
  },
  {
   "cell_type": "markdown",
   "metadata": {},
   "source": [
    "### Step 5: Admix the new and the old density \n",
    "(50\\% of the old and 50\\%  of the new should work) and use the resulting density to compute the  new Hartree and exchange-correlation potential.\n",
    "\n",
    "### Iterate Steps 1 to Step 5 until self-consistency is achieved."
   ]
  },
  {
   "cell_type": "markdown",
   "metadata": {},
   "source": [
    "For oxygen, the total energy in this implementation is : -74.47303426133809 Hartree, while NIST shows -74.473077 Hartree. This is in excellent agreement. The small loss of accuracy is mainly due to the mesh used for R."
   ]
  }
 ],
 "metadata": {
  "kernelspec": {
   "display_name": "Python 3",
   "language": "python",
   "name": "python3"
  },
  "language_info": {
   "codemirror_mode": {
    "name": "ipython",
    "version": 3
   },
   "file_extension": ".py",
   "mimetype": "text/x-python",
   "name": "python",
   "nbconvert_exporter": "python",
   "pygments_lexer": "ipython3",
   "version": "3.8.5"
  }
 },
 "nbformat": 4,
 "nbformat_minor": 2
}
