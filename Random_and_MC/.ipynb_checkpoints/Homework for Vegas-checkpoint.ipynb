{
 "cells": [
  {
   "cell_type": "code",
   "execution_count": 1,
   "id": "trying-israel",
   "metadata": {},
   "outputs": [],
   "source": [
    "from numba import jit"
   ]
  },
  {
   "cell_type": "code",
   "execution_count": 2,
   "id": "weekly-metro",
   "metadata": {},
   "outputs": [],
   "source": [
    "# simple class to take care of statistically determined quantities\n",
    "class Cumulants:\n",
    "    def __init__(self):\n",
    "        self.sum=0.0    # f_0 + f_1 +.... + f_N\n",
    "        self.sqsum=0.0  # f_0^2 + f_1^2 +....+ f_N^2\n",
    "        self.avg = 0.0  # I_best when many iterations, otherwise <f> = 1/N\\sum_i f_i\n",
    "        self.err = 0.0  # sigma of I_best when many iterations, otherwise sqrt( <f^2>-<f>^2 )/sqrt(N)\n",
    "        self.chisq = 0.0\n",
    "        self.weightsum=0.0 # \\sum_i 1/sigma_i^2\n",
    "        self.avgsum=0.0    # \\sum_i <f>_i/sigma_i^2\n",
    "        self.avg2sum=0.0   # \\sum_i <f>_i^2/sigma_i^2"
   ]
  },
  {
   "cell_type": "markdown",
   "id": "silent-rental",
   "metadata": {},
   "source": [
    "Numba is hard to use on the class. We will define a simple function `RefineGrid__` (not class member), which contains the part of the code that takes most time, and the class will call the external function `RefineGrid__`"
   ]
  },
  {
   "cell_type": "code",
   "execution_count": 3,
   "id": "geological-alexandria",
   "metadata": {},
   "outputs": [],
   "source": [
    "@jit(nopython=True)\n",
    "def RefineGrid__(imp, self_g):\n",
    "    (ndim,nbins) = shape(imp)\n",
    "    gnew = zeros((ndim,nbins+1))\n",
    "    for idim in range(ndim):\n",
    "        avgperbin = sum(imp[idim,:])/nbins\n",
    "        #**** redefine the size of each bin  ****\n",
    "        newgrid = zeros(nbins)\n",
    "        cur=0.0\n",
    "        newcur=0.0\n",
    "        thisbin = 0.0\n",
    "        ibin = -1\n",
    "        # we are trying to determine\n",
    "        #   Int[ f(g) dg, {g, g_{i-1},g_i}] == I/N_g\n",
    "        #   where I == avgperbin\n",
    "        for newbin in range(nbins-1):  # all but the last bin, which is 1.0\n",
    "            while (thisbin < avgperbin) :\n",
    "                ibin+=1\n",
    "                thisbin += imp[idim,ibin]\n",
    "                prev = cur\n",
    "                cur = self_g[idim,ibin]\n",
    "            # Explanation is in order : \n",
    "            #   prev    -- g^{old}_{l-1}\n",
    "            #   cur     -- g^{old}_l\n",
    "            #   thisbin -- Sm = f_{l-k}+.... +f_{l-2}+f_{l-1}+f_l\n",
    "            #   we know that  Sm is just a bit more than we need, i.e., I/N_g, hence we need to compute how much more\n",
    "            #   using linear interpolation :\n",
    "            #   g^{new} = g_l - (g_l-g_{l-1}) * (f_{l-k}+....+f_{l-2}+f_{l-1}+f_l - I/N_g)/f_l\n",
    "            #    clearly\n",
    "            #         if I/N_g == f_{l-k}+....+f_{l-2}+f_{l-1}+f_l\n",
    "            #            we will get g^{new} = g_l\n",
    "            #     and if I/N_g == f_{l-k}+....+f_{l-2}+f_{l-1}\n",
    "            #            we will get g^{new} = g_{l-1}\n",
    "            #     and if I/N_g  is between the two possibilities, we will get linear interpolation between\n",
    "            #     g_{l-1} and g_l\n",
    "            #     \n",
    "            thisbin -= avgperbin   # thisbin <- (f_{l-k}+....+f_{l-2}+f_{l-1}+f_l - I/N_g)\n",
    "            delta = (cur - prev)*thisbin # delta <-  (g_l-g_{l-1})*(f_{l-k}+....+f_{l-2}+f_{l-1}+f_l - I/N_g)\n",
    "            # cur is the closest point from the old mesh, while delta/imp is the correction using linear interpolation.\n",
    "            newgrid[newbin] = cur - delta/imp[idim,ibin]  \n",
    "\n",
    "        newgrid[nbins-1]=1.0\n",
    "        gnew[idim,:nbins]= newgrid\n",
    "    return gnew\n",
    "\n",
    "class Grid:\n",
    "    \"\"\"Contains the grid points g_n(x) with x=[0...1], and g=[0...1]\n",
    "       for Vegas integration. There are n-dim g_n functions.\n",
    "       Constraints : g(0)=0 and g(1)=1.\n",
    "    \"\"\"\n",
    "    def __init__(self, ndim, nbins):\n",
    "        self.g = zeros((ndim,nbins+1))  \n",
    "        # a bit dirty trick: We will later use also g[-1] in interpolation, which should be set to zero, hence\n",
    "        # we allocate dimension nbins+1, rather than nbinx\n",
    "        self.ndim=ndim\n",
    "        self.nbins=nbins\n",
    "        # At the beginning we set g(x)=x\n",
    "        # The grid-points are x_0 = 1/N, x_1 = 2/N, ... x_{N-1}=1.0. \n",
    "        # Note that g(0)=0, and we skip this point on the mesh.\n",
    "        for idim in range(ndim):\n",
    "            self.g[idim,:nbins] = arange(1,nbins+1)/float(nbins)\n",
    "       \n",
    "    def RefineGrid(self, imp): # Now just a call to external function, which handless class mmber self.g\n",
    "        self.g = RefineGrid__(imp, self.g)"
   ]
  },
  {
   "cell_type": "code",
   "execution_count": 4,
   "id": "operational-trance",
   "metadata": {},
   "outputs": [],
   "source": [
    "from numpy import *\n",
    "\n",
    "def smfun(x):\n",
    "    if (x>0):\n",
    "        return ((x-1.)/log(x))**(1.5)\n",
    "    else:\n",
    "        return 0.\n",
    "vsmfun = vectorize(smfun)\n",
    "\n",
    "def Smoothen(fxbin):\n",
    "    (ndim,nbins) = shape(fxbin)\n",
    "    final = zeros(shape(fxbin))\n",
    "    for idim in range(ndim):\n",
    "        fxb = copy(fxbin[idim,:])\n",
    "        #**** smooth the f^2 value stored for each bin ****\n",
    "        # f[i] <- (f[i+1]+f[i]+f[i-1])/3.\n",
    "        fxb[:nbins-1] += fxbin[idim,1:nbins]\n",
    "        fxb[1:nbins]  += fxbin[idim,:nbins-1]\n",
    "        fxb[1:nbins-1] *= 1/3.\n",
    "        fxb[0] *= 1/2.\n",
    "        fxb[nbins-1] *= 1/2.\n",
    "        norm = sum(fxb)\n",
    "        if( norm == 0 ):\n",
    "            print ('ERROR can not refine the grid with zero grid function')\n",
    "            return # can not refine the grid if the function is zero.\n",
    "        fxb *= 1.0/norm         # we normalize the function.\n",
    "        # Note that normalization is such that the sum is 1.\n",
    "        final[idim,:] = vsmfun(fxb)\n",
    "    return final"
   ]
  },
  {
   "cell_type": "markdown",
   "id": "aquatic-tragedy",
   "metadata": {},
   "source": [
    "To speed up the code, we will define external function `SetFxbin`, which iterates over large loop n=1000, and sets the projections of the function. This external function can be speed up by `numba`.\n",
    "\n",
    "In addition, we will generalize the code for complex functions, and generalized interval $[a,b]$."
   ]
  },
  {
   "cell_type": "code",
   "execution_count": 5,
   "id": "tender-depth",
   "metadata": {},
   "outputs": [],
   "source": [
    "@jit(nopython=True)\n",
    "def SetFxbin(fxbin,bins,wfun):\n",
    "    (n,ndim) = bins.shape\n",
    "    for dim in range(ndim):\n",
    "        # Here we make a better approximation for the function, which we are integrating.\n",
    "        for i in range(n):\n",
    "            fxbin[dim, bins[i,dim] ] += abs(wfun[i]) # just bin the function f. We saved the bin position before.                \n",
    "\n",
    "\n",
    "def Vegas_step4(integrant, ab, maxeval, nstart, nincrease, grid, cum):\n",
    "    ndim, nbins = grid.ndim,grid.nbins  # dimension of the integral, size of the grid for binning in each direction\n",
    "    unit_dim = (ab[1]-ab[0])**ndim   # CHANGED: converts from unit cube integration to generalized cube with unit length\n",
    "    nbatch=1000             # function will be evaluated in bacthes of 1000 evaluations at one time (for efficiency and storage issues)\n",
    "    neval=0\n",
    "    print (\"\"\"Vegas parameters:\n",
    "       ndim = \"\"\"+str(ndim)+\"\"\"\n",
    "       limits = \"\"\"+str(ab)+\"\"\"\n",
    "       maxeval = \"\"\"+str(maxeval)+\"\"\"\n",
    "       nstart = \"\"\"+str(nstart)+\"\"\"\n",
    "       nincrease = \"\"\"+str(nincrease)+\"\"\"\n",
    "       nbins = \"\"\"+str(nbins)+\"\"\"\n",
    "       nbaths = \"\"\"+str(nbatch)+\"\\n\")\n",
    "\n",
    "    bins = zeros((nbatch,ndim),dtype=int) # in which sampled bin does this point fall?\n",
    "    \n",
    "    all_nsamples = nstart\n",
    "    for iter in range(1000):\n",
    "        wgh = zeros(nbatch)            # weights for each random point in the batch\n",
    "        fxbin = zeros((ndim,nbins))    # after each iteration we reset the average function being binned\n",
    "        for nsamples in range(all_nsamples,0,-nbatch):  # loop over all_nsample evaluations in batches of nbatch\n",
    "            n = min(nbatch,nsamples)  # How many evaluations in this pass?\n",
    "            # We are integrating f(g_1(x),g_2(y),g_3(z))*dg_1/dx*dg_2/dy*dg_3/dz dx*dy*dz\n",
    "            # This is represented as  1/all_nsamples \\sum_{x_i,y_i,z_i} f(g_1(x_i),g_2(y_i),g_3(z_i))*dg_1/dx*dg_2/dy*dg_3/dz\n",
    "            #  where dg_1/dx = diff*NBINS\n",
    "            xr = random.random((n,ndim)) # generates 2-d array of random numbers in the interval [0,1)\n",
    "            pos = xr*nbins                   # (x*N)\n",
    "            bins = array(pos,dtype=int)      # which grid would it fit ? (x*N)\n",
    "            wgh = ones(nbatch)/all_nsamples\n",
    "            for dim in range(ndim):   \n",
    "                # We want to evaluate the function f at point g(x), i.e, f(g_1(x),g_2(y),...)\n",
    "                # Here we transform the points x,y,z -> g_1(x), g_2(y), g_3(z)\n",
    "                # We hence want to evaluate g(x) ~ g(x[i]), where x is the random number and g is the grid function\n",
    "                # The discretized g(t) is defined on the grid :\n",
    "                #       t[-1]=0, t[0]=1/N, t[1]=2/N, t[2]=3/N ... t[N-1]=1.\n",
    "                # We know that g(0)=0 and g(1)=1, so that g[-1]=0.0 and g[N-1]=1.0\n",
    "                # To interpolate g at x, we first compute  i=int(x*N) and then we use linear interpolation\n",
    "                # g(x) = g[i-1] + (g[i]-g[i-1])*(x*N-int(x*N))\n",
    "                gi = grid.g[dim,bins[:,dim]]            # g[i]\n",
    "                gm = grid.g[dim,bins[:,dim]-1]          # g[i-1]\n",
    "                diff = gi - gm                          # g[i]-g[i-1]\n",
    "                gx = gm + (pos[:,dim]-bins[:,dim])*diff # linear interpolation g(x)\n",
    "                xr[:,dim] = gx*(ab[1]-ab[0])+ab[0]      # xr [a,b] <- g(xr)\\in [0,1]\n",
    "                wgh *= diff*nbins                       # wgh = prod_{dim} dg/dx\n",
    "            \n",
    "            # Here we evaluate function f on all randomly generated x points above\n",
    "            fx = integrant(xr)  # n function evaluations required in single call\n",
    "            neval += n  # We just added so many fuction evaluations\n",
    "            \n",
    "            # Now we compute the integral as weighted average, namely, f(g(x))*dg/dx\n",
    "            wfun = wgh * fx             # weight * function ~ f_i*w_i            \n",
    "            cum.sum += sum(wfun)        # sum_i f_i*w_i = <fw>\n",
    "            wfun *= conj(wfun)          # CHANGED FOR COMPLEX carefull : this is like  (f_i * w_i/N)^2 hence  1/N (1/N (f_i*w_i)^2)\n",
    "            cum.sqsum += sum(wfun).real # sum_i (f_i*w_i)^2 = <fw^2>/all_nsamples\n",
    "            # \n",
    "            SetFxbin(fxbin,bins,wfun)\n",
    "                \n",
    "        w1 = cum.sqsum*all_nsamples-abs(cum.sum)**2   # w1 = <fw^2>-<fw>^2\n",
    "        w = (all_nsamples-1)/w1            # w ~ 1/sigma_i^2 = (N-1)/(<fw^2>-<fw>^2)\n",
    "        # Note that variance of the MC sampling is Var(monte-f) = (<f^2>-<f>^2)/N == 1/sigma_i^2\n",
    "        cum.weightsum += w          # weightsum ~ \\sum_i 1/sigma_i^2\n",
    "        cum.avgsum += w*cum.sum     # avgsum    ~ \\sum_i <fw>_i / sigma_i^2\n",
    "        #cum.avg2sum += w*abs(cum.sum)**2  # avg2cum   ~ \\sum_i <fw>_i^2/sigma_i^2\n",
    "        \n",
    "        cum.avg = cum.avgsum/cum.weightsum     # I_best = (\\sum_i <fw>_i/sigma_i^2 )/(\\sum_i 1/sigma_i^2)\n",
    "        cum.err = sqrt(1/cum.weightsum)        # err ~ sqrt(best sigma^2) = sqrt(1/(\\sum_i 1/sigma_i^2))\n",
    "        \n",
    "        chisq=0\n",
    "        if iter>0:\n",
    "            cum.chisq += abs(cum.sum - cum.avg)**2*w\n",
    "            chisq = cum.chisq/iter\n",
    "            #print('<f>/sigma^2',cum.avgsum, '1/sigma^2', cum.weightsum)\n",
    "            #print('<f^2>=', cum.sqsum*all_nsamples, '<f>^2=', abs(cum.sum)**2, '<f^2>-<f>^2=', cum.sqsum*all_nsamples-abs(cum.sum)**2)\n",
    "        print (\"Iteration {:3d}: I= {:10.8f} +- {:10.8f}  chisq= {:10.8f} number of evaluations = {:7d} \".format(iter+1, cum.avg*unit_dim, cum.err*unit_dim, chisq, neval))\n",
    "        imp = Smoothen(fxbin)\n",
    "        grid.RefineGrid(imp)\n",
    "        \n",
    "        cum.sum=0                    # clear the partial sum for the next step\n",
    "        cum.sqsum=0\n",
    "        all_nsamples += nincrease    # for the next time, increase the number of steps a bit\n",
    "        if (neval>=maxeval): break\n",
    "            \n",
    "    cum.chisq *= 1./(iter)\n",
    "    cum.avg *= (ab[1]-ab[0])**ndim\n",
    "    cum.err *= (ab[1]-ab[0])**ndim"
   ]
  },
  {
   "cell_type": "code",
   "execution_count": 6,
   "id": "opening-davis",
   "metadata": {},
   "outputs": [],
   "source": [
    "def my_integrant2(x):\n",
    "    \"\"\" For testing, we are integration the function\n",
    "       1/(1-cos(x)*cos(y)*cos(z))/pi^3\n",
    "       in the interval [0,pi]**3\n",
    "    \"\"\"\n",
    "    return 1.0/(1.0-cos(x[:,0])*cos(x[:,1])*cos(x[:,2]))/pi**3"
   ]
  },
  {
   "cell_type": "code",
   "execution_count": 7,
   "id": "local-endorsement",
   "metadata": {},
   "outputs": [
    {
     "name": "stdout",
     "output_type": "stream",
     "text": [
      "Vegas parameters:\n",
      "       ndim = 3\n",
      "       limits = [-3.141592653589793, 3.141592653589793]\n",
      "       maxeval = 2000000\n",
      "       nstart = 100000\n",
      "       nincrease = 5000\n",
      "       nbins = 128\n",
      "       nbaths = 1000\n",
      "\n",
      "Iteration   1: I= 11.34449951 +- 0.24598426  chisq= 0.00000000 number of evaluations =  100000 \n",
      "Iteration   2: I= 11.22842329 +- 0.06204216  chisq= 0.01512783 number of evaluations =  205000 \n",
      "Iteration   3: I= 11.17364560 +- 0.03442324  chisq= 0.18091581 number of evaluations =  315000 \n",
      "Iteration   4: I= 11.15152475 +- 0.02439910  chisq= 0.25958588 number of evaluations =  430000 \n",
      "Iteration   5: I= 11.14748838 +- 0.02001859  chisq= 0.20878098 number of evaluations =  550000 \n",
      "Iteration   6: I= 11.15218614 +- 0.01716381  chisq= 0.19759223 number of evaluations =  675000 \n",
      "Iteration   7: I= 11.15361491 +- 0.01699362  chisq= 0.22203288 number of evaluations =  805000 \n",
      "Iteration   8: I= 11.14825097 +- 0.01587714  chisq= 0.28807850 number of evaluations =  940000 \n",
      "Iteration   9: I= 11.14535633 +- 0.01442084  chisq= 0.27165131 number of evaluations = 1080000 \n",
      "Iteration  10: I= 11.15064303 +- 0.01311537  chisq= 0.31292312 number of evaluations = 1225000 \n",
      "Iteration  11: I= 11.15303722 +- 0.01207829  chisq= 0.30023725 number of evaluations = 1375000 \n",
      "Iteration  12: I= 11.15858365 +- 0.01131627  chisq= 0.41064779 number of evaluations = 1530000 \n",
      "Iteration  13: I= 11.15757072 +- 0.01060225  chisq= 0.38122275 number of evaluations = 1690000 \n",
      "Iteration  14: I= 11.15903480 +- 0.01001344  chisq= 0.36401455 number of evaluations = 1855000 \n",
      "Iteration  15: I= 11.15797698 +- 0.00952872  chisq= 0.34565424 number of evaluations = 2025000 \n",
      "11.157976983546618 +- 0.00952871797858553 exact= 11.1456 real error= 0.0011104815843577817\n"
     ]
    }
   ],
   "source": [
    "from scipy import *\n",
    "from numpy import *\n",
    "\n",
    "ndim=3\n",
    "maxeval=2000000\n",
    "exact = 1.3932*(2**3)  # exact value of the integral\n",
    "    \n",
    "cum = Cumulants()\n",
    "    \n",
    "nbins=128\n",
    "nstart =100000\n",
    "nincrease=5000\n",
    "\n",
    "grids = Grid(ndim,nbins)\n",
    "\n",
    "Vegas_step4(my_integrant2, [-pi,pi], maxeval, nstart, nincrease, grids, cum)\n",
    "\n",
    "print (cum.avg, '+-', cum.err, 'exact=', exact, 'real error=', abs(cum.avg-exact)/exact)"
   ]
  },
  {
   "cell_type": "code",
   "execution_count": 8,
   "id": "strategic-assets",
   "metadata": {},
   "outputs": [
    {
     "data": {
      "text/plain": [
       "[<matplotlib.lines.Line2D at 0x2573230eeb0>]"
      ]
     },
     "execution_count": 8,
     "metadata": {},
     "output_type": "execute_result"
    },
    {
     "data": {
      "image/png": "[encoded data removed]",
      "text/plain": [
       "<Figure size 432x288 with 1 Axes>"
      ]
     },
     "metadata": {
      "needs_background": "light"
     },
     "output_type": "display_data"
    }
   ],
   "source": [
    "from pylab import *\n",
    "%matplotlib inline\n",
    "\n",
    "plot(grids.g[0,:nbins])\n",
    "plot(grids.g[1,:nbins])\n",
    "plot(grids.g[2,:nbins])"
   ]
  },
  {
   "cell_type": "code",
   "execution_count": 9,
   "id": "surprised-chaos",
   "metadata": {},
   "outputs": [],
   "source": [
    "@jit(nopython=True)\n",
    "def ferm(x):\n",
    "    if x>700:\n",
    "        return 0.\n",
    "    else: \n",
    "        return 1./(exp(x)+1.)\n",
    "    \n",
    "\n",
    "@jit(nopython=True)\n",
    "def Linhard_inside(x, Omega, q, res, kF, T, broad, nrm):\n",
    "    # k[n,ndim]\n",
    "    for i in range(x.shape[0]):\n",
    "        k = x[i,0:3]\n",
    "        e_k_q = linalg.norm(k-q)**2 - kF*kF\n",
    "        e_k = linalg.norm(k)**2 - kF*kF\n",
    "        dfermi = (ferm(e_k_q/T)-ferm(e_k/T))\n",
    "        #print('e(k)=', e_k, 'e(k-q)=',e_k_q), 'dfermi=', dfermi\n",
    "        res[i] = -2*nrm*dfermi/(Omega-e_k_q+e_k+broad*1j)\n",
    "    return res\n",
    "\n",
    "class Linhard:\n",
    "    def __init__(self, Omega, q, kF, T, broad):\n",
    "        self.Omega = Omega\n",
    "        self.q = array([0,0,q])\n",
    "        self.kF = kF\n",
    "        self.T = T\n",
    "        self.broad = broad\n",
    "        self.nrm = 1/(2*pi)**3\n",
    "    def __call__(self, k):\n",
    "        res = zeros(k.shape[0], dtype=complex)\n",
    "        return Linhard_inside(k, self.Omega, self.q, res, self.kF, self.T, self.broad, self.nrm)"
   ]
  },
  {
   "cell_type": "code",
   "execution_count": 10,
   "id": "insured-barrier",
   "metadata": {},
   "outputs": [
    {
     "data": {
      "text/plain": [
       "array([ 0.00000000e+000+0.00000000e+000j,\n",
       "        0.00000000e+000+0.00000000e+000j,\n",
       "       -7.49407490e-274+8.35255532e-276j,\n",
       "       -2.19447109e-077+4.42787258e-079j])"
      ]
     },
     "execution_count": 10,
     "metadata": {},
     "output_type": "execute_result"
    }
   ],
   "source": [
    "from numpy import random\n",
    "\n",
    "kF=0.1\n",
    "lh = Linhard(0.0, 0.1*kF,kF,0.02*kF,0.002*kF)\n",
    "x = random.random((4,3))\n",
    "lh(x)"
   ]
  },
  {
   "cell_type": "code",
   "execution_count": 11,
   "id": "valid-boring",
   "metadata": {},
   "outputs": [
    {
     "name": "stdout",
     "output_type": "stream",
     "text": [
      "Vegas parameters:\n",
      "       ndim = 3\n",
      "       limits = [-2.878737439016269, 2.878737439016269]\n",
      "       maxeval = 10000000\n",
      "       nstart = 200000\n",
      "       nincrease = 100000\n",
      "       nbins = 128\n",
      "       nbaths = 1000\n",
      "\n",
      "Iteration   1: I= -0.04926419-0.00012588j +- 0.00159358  chisq= 0.00000000 number of evaluations =  200000 \n",
      "Iteration   2: I= -0.04818683+0.00004155j +- 0.00025767  chisq= 0.01256661 number of evaluations =  500000 \n",
      "Iteration   3: I= -0.04800549+0.00001184j +- 0.00016599  chisq= 0.18664699 number of evaluations =  900000 \n",
      "Iteration   4: I= -0.04797835+0.00002435j +- 0.00012591  chisq= 0.13907823 number of evaluations = 1400000 \n",
      "Iteration   5: I= -0.04796633+0.00001961j +- 0.00010408  chisq= 0.10999128 number of evaluations = 2000000 \n",
      "Iteration   6: I= -0.04786831+0.00001183j +- 0.00008876  chisq= 0.56383617 number of evaluations = 2700000 \n",
      "Iteration   7: I= -0.04779152+0.00000958j +- 0.00007781  chisq= 0.88462919 number of evaluations = 3500000 \n",
      "Iteration   8: I= -0.04777518+0.00000742j +- 0.00006956  chisq= 0.78374354 number of evaluations = 4400000 \n",
      "Iteration   9: I= -0.04779318+0.00001018j +- 0.00006258  chisq= 0.72218310 number of evaluations = 5400000 \n",
      "Iteration  10: I= -0.04780924+0.00000381j +- 0.00005669  chisq= 0.68064520 number of evaluations = 6500000 \n",
      "Iteration  11: I= -0.04779654-0.00000023j +- 0.00005178  chisq= 0.64039462 number of evaluations = 7700000 \n",
      "Iteration  12: I= -0.04778070+0.00000133j +- 0.00004764  chisq= 0.62948811 number of evaluations = 9000000 \n",
      "Iteration  13: I= -0.04778723+0.00000116j +- 0.00004416  chisq= 0.58660952 number of evaluations = 10400000 \n"
     ]
    }
   ],
   "source": [
    "from numpy import *\n",
    "\n",
    "# As required by the homework\n",
    "rs = 2.\n",
    "kF = pow( 9*pi/4., 1./3.) / rs\n",
    "nF = kF/(2*pi*pi)\n",
    "T = 0.02*kF**2\n",
    "broad = 0.002*kF**2\n",
    "cutoff = 3*kF\n",
    "Omega=0.0*kF**2\n",
    "q = 0.1*kF\n",
    "\n",
    "\n",
    "ndim=3\n",
    "FCT=1\n",
    "maxeval=int(10000000/FCT)\n",
    "nbins=128\n",
    "nstart =int(200000/FCT)\n",
    "nincrease=int(100000/FCT)\n",
    "\n",
    "cum = Cumulants()\n",
    "grids = Grid(ndim,nbins)\n",
    "lh = Linhard(Omega, q, kF, T, broad)\n",
    "Vegas_step4(lh, [-cutoff,cutoff], maxeval, nstart, nincrease, grids, cum)"
   ]
  },
  {
   "cell_type": "code",
   "execution_count": 12,
   "id": "floating-melissa",
   "metadata": {
    "scrolled": true
   },
   "outputs": [
    {
     "name": "stdout",
     "output_type": "stream",
     "text": [
      "(-0.9830164997023519+2.3896280149439318e-05j) +- 0.0009084697906329881\n"
     ]
    },
    {
     "data": {
      "text/plain": [
       "[<matplotlib.lines.Line2D at 0x257348328b0>]"
      ]
     },
     "execution_count": 12,
     "metadata": {},
     "output_type": "execute_result"
    },
    {
     "data": {
      "image/png": "[encoded data removed]",
      "text/plain": [
       "<Figure size 432x288 with 1 Axes>"
      ]
     },
     "metadata": {
      "needs_background": "light"
     },
     "output_type": "display_data"
    }
   ],
   "source": [
    "print (cum.avg/nF, '+-', cum.err/nF)\n",
    "\n",
    "plot(grids.g[0,:nbins],'o-')\n",
    "plot(grids.g[1,:nbins],'o-')\n",
    "plot(grids.g[2,:nbins],'o-')"
   ]
  },
  {
   "cell_type": "markdown",
   "id": "dimensional-liver",
   "metadata": {},
   "source": [
    "Defining Linhardt susceptibility, which evaluates polarization for the entire array of frequencies $\\Omega$."
   ]
  },
  {
   "cell_type": "code",
   "execution_count": 13,
   "id": "significant-birthday",
   "metadata": {},
   "outputs": [],
   "source": [
    "@jit(nopython=True)\n",
    "def Linhard2_inside(x, Omega, q, res, kF, T, broad, nrm):\n",
    "    for i in range(x.shape[0]):\n",
    "        k = x[i,0:3]\n",
    "        e_k_q = linalg.norm(k-q)**2 - kF*kF\n",
    "        e_k = linalg.norm(k)**2 - kF*kF\n",
    "        dfermi = (ferm(e_k_q/T)-ferm(e_k/T))\n",
    "        #print('e(k)=', e_k, 'e(k-q)=',e_k_q), 'dfermi=', dfermi\n",
    "        res[:,i] = -2*nrm*dfermi/(Omega-e_k_q+e_k+broad*1j)\n",
    "    return res\n",
    "\n",
    "class Linhard2:\n",
    "    def __init__(self, Omega, q, kF, T, broad):\n",
    "        self.Omega = Omega\n",
    "        self.q = array([0,0,q])\n",
    "        self.kF = kF\n",
    "        self.T = T\n",
    "        self.broad = broad\n",
    "        self.nrm = 1/(2*pi)**3\n",
    "    def __call__(self, x):\n",
    "        #print(x)\n",
    "        res = zeros((len(self.Omega),x.shape[0]), dtype=complex)\n",
    "        #print('shape(res)=', shape(res))\n",
    "        return Linhard2_inside(x, self.Omega, self.q, res, self.kF, self.T, self.broad, self.nrm)"
   ]
  },
  {
   "cell_type": "code",
   "execution_count": 14,
   "id": "funded-valuable",
   "metadata": {},
   "outputs": [
    {
     "name": "stdout",
     "output_type": "stream",
     "text": [
      "(10, 4)\n"
     ]
    },
    {
     "data": {
      "text/plain": [
       "array([[-2.84115105e-09+3.38378407e-10j, -7.21150871e-05+9.91932773e-07j,\n",
       "        -5.19577765e-10+2.60064536e-11j, -1.82888921e-13+4.59958427e-15j],\n",
       "       [-3.78218874e-10+5.91411216e-12j, -4.08831380e-05+3.18759151e-07j,\n",
       "        -1.37748226e-10+1.82364995e-12j, -7.63325689e-14+8.00823360e-16j],\n",
       "       [-2.02431226e-10+1.69387908e-12j, -2.85275069e-05+1.55198782e-07j,\n",
       "        -7.93801870e-11+6.05540012e-13j, -4.82280542e-14+3.19659589e-16j],\n",
       "       [-1.38195652e-10+7.89405079e-13j, -2.19067551e-05+9.15190494e-08j,\n",
       "        -5.57540919e-11+2.98716559e-13j, -3.52493009e-14+1.70757735e-16j],\n",
       "       [-1.04906048e-10+4.54889807e-13j, -1.77802292e-05+6.02875341e-08j,\n",
       "        -4.29658378e-11+1.77397425e-13j, -2.77746930e-14+1.06016641e-16j],\n",
       "       [-8.45409859e-11+2.95417968e-13j, -1.49618810e-05+4.26897628e-08j,\n",
       "        -3.49494542e-11+1.17375926e-13j, -2.29154455e-14+7.21655777e-17j],\n",
       "       [-7.07972782e-11+2.07173322e-13j, -1.29147547e-05+3.18070050e-08j,\n",
       "        -2.94540235e-11+8.33654456e-14j, -1.95032875e-14+5.22742658e-17j],\n",
       "       [-6.08972677e-11+1.53283481e-13j, -1.13603917e-05+2.46114084e-08j,\n",
       "        -2.54519623e-11+6.22498743e-14j, -1.69755821e-14+3.96023439e-17j],\n",
       "       [-5.34263285e-11+1.17980373e-13j, -1.01399862e-05+1.96075877e-08j,\n",
       "        -2.24073604e-11+4.82477150e-14j, -1.50279021e-14+3.10361428e-17j],\n",
       "       [-4.75881574e-11+9.36044394e-14j, -9.15635185e-06+1.59879980e-08j,\n",
       "        -2.00133328e-11+3.84887475e-14j, -1.34811513e-14+2.49761004e-17j]])"
      ]
     },
     "execution_count": 14,
     "metadata": {},
     "output_type": "execute_result"
    }
   ],
   "source": [
    "from numpy import random\n",
    "Omega = linspace(0,kF**2,10)\n",
    "lh2 = Linhard2(Omega, q, kF, T, broad)\n",
    "x = random.random((4,3))\n",
    "y=lh2(x)\n",
    "print(y.shape)\n",
    "y"
   ]
  },
  {
   "cell_type": "markdown",
   "id": "careful-jewel",
   "metadata": {},
   "source": [
    "Class for Cumulants has to be upgraded, so that allows arrays in frequency (for all values of $\\Omega$).\n",
    "Note that some quantities need to be complex arrays, and some real arrays."
   ]
  },
  {
   "cell_type": "code",
   "execution_count": 15,
   "id": "specific-occasion",
   "metadata": {},
   "outputs": [],
   "source": [
    "class CumulantsW:\n",
    "    def __init__(self, Om):\n",
    "        nOm = len(Om)\n",
    "        self.sum=zeros(nOm, dtype=complex)    # f_0 + f_1 +.... + f_N\n",
    "        self.sqsum=zeros(nOm)                 # |f_0|^2 + |f_1|^2 +....+ |f_N|^2\n",
    "        self.avg = zeros(nOm, dtype=complex)  # I_best when many iterations, otherwise <f> = 1/N\\sum_i f_i\n",
    "        self.err = zeros(nOm)                 # sigma of I_best when many iterations, otherwise sqrt( <f^2>-<f>^2 )/sqrt(N)\n",
    "        self.chisq = zeros(nOm)\n",
    "        self.weightsum=zeros(nOm)             # \\sum_i 1/sigma_i^2\n",
    "        self.avgsum=zeros(nOm, dtype=complex) # \\sum_i <f>_i/sigma_i^2\n",
    "        self.avg2sum=zeros(nOm)               # \\sum_i <f>_i^2/sigma_i^2\n",
    "        "
   ]
  },
  {
   "cell_type": "markdown",
   "id": "compact-prerequisite",
   "metadata": {},
   "source": [
    "Finally, Vegas is changed so that functions $f$ returns 2D-array $(\\Omega,n)$. All quantities in cumulants are now arrays in frequency."
   ]
  },
  {
   "cell_type": "code",
   "execution_count": 16,
   "id": "blond-cylinder",
   "metadata": {},
   "outputs": [],
   "source": [
    "def Vegas_step5(integrant, ab, maxeval, nstart, nincrease, grid, cum):\n",
    "    ndim, nbins = grid.ndim,grid.nbins  # dimension of the integral, size of the grid for binning in each direction\n",
    "    unit_dim = (ab[1]-ab[0])**ndim   # converts from unit cube integration to generalized cube with unit length\n",
    "    nbatch=1000             # function will be evaluated in bacthes of 1000 evaluations at one time (for efficiency and storage issues)\n",
    "    neval=0\n",
    "    print (\"\"\"Vegas parameters:\n",
    "       ndim = \"\"\"+str(ndim)+\"\"\"\n",
    "       limits = \"\"\"+str(ab)+\"\"\"\n",
    "       maxeval = \"\"\"+str(maxeval)+\"\"\"\n",
    "       nstart = \"\"\"+str(nstart)+\"\"\"\n",
    "       nincrease = \"\"\"+str(nincrease)+\"\"\"\n",
    "       nbins = \"\"\"+str(nbins)+\"\"\"\n",
    "       nbaths = \"\"\"+str(nbatch)+\"\\n\")\n",
    "\n",
    "    bins = zeros((nbatch,ndim),dtype=int) # in which sampled bin does this point fall?\n",
    "    \n",
    "    \n",
    "    all_nsamples = nstart\n",
    "    for iter in range(1000):\n",
    "        wgh = zeros(nbatch)            # weights for each random point in the batch\n",
    "        fxbin = zeros((ndim,nbins))    # after each iteration we reset the average function being binned\n",
    "        for nsamples in range(all_nsamples,0,-nbatch):  # loop over all_nsample evaluations in batches of nbatch\n",
    "            n = min(nbatch,nsamples)  # How many evaluations in this pass?\n",
    "            # We are integrating f(g_1(x),g_2(y),g_3(z))*dg_1/dx*dg_2/dy*dg_3/dz dx*dy*dz\n",
    "            # This is represented as  1/all_nsamples \\sum_{x_i,y_i,z_i} f(g_1(x_i),g_2(y_i),g_3(z_i))*dg_1/dx*dg_2/dy*dg_3/dz\n",
    "            #  where dg_1/dx = diff*NBINS\n",
    "            xr = random.random((n,ndim)) # generates 2-d array of random numbers in the interval [0,1)\n",
    "            pos = xr*nbins                   # (x*N)\n",
    "            bins = array(pos,dtype=int)      # which grid would it fit ? (x*N)\n",
    "            wgh = ones(nbatch)/all_nsamples\n",
    "            for dim in range(ndim):   \n",
    "                # We want to evaluate the function f at point g(x), i.e, f(g_1(x),g_2(y),...)\n",
    "                # Here we transform the points x,y,z -> g_1(x), g_2(y), g_3(z)\n",
    "                # We hence want to evaluate g(x) ~ g(x[i]), where x is the random number and g is the grid function\n",
    "                # The discretized g(t) is defined on the grid :\n",
    "                #       t[-1]=0, t[0]=1/N, t[1]=2/N, t[2]=3/N ... t[N-1]=1.\n",
    "                # We know that g(0)=0 and g(1)=1, so that g[-1]=0.0 and g[N-1]=1.0\n",
    "                # To interpolate g at x, we first compute  i=int(x*N) and then we use linear interpolation\n",
    "                # g(x) = g[i-1] + (g[i]-g[i-1])*(x*N-int(x*N))\n",
    "                gi = grid.g[dim,bins[:,dim]]            # g[i]\n",
    "                gm = grid.g[dim,bins[:,dim]-1]          # g[i-1]\n",
    "                diff = gi - gm                          # g[i]-g[i-1]\n",
    "                gx = gm + (pos[:,dim]-bins[:,dim])*diff # linear interpolation\n",
    "                xr[:,dim] = gx*(ab[1]-ab[0])+ab[0]      # xr <- g(xr)\n",
    "                wgh *= diff*nbins                       # wgh = prod_{dim} dg/dx\n",
    "            \n",
    "            print(xr[10])\n",
    "            \n",
    "            # Here we evaluate function f on all randomly generated x points above\n",
    "            fx = integrant(xr)  # n function evaluations required in single call fx[Om,i]\n",
    "            neval += n  # We just added so many fuction evaluations\n",
    "            \n",
    "            # Now we compute the integral as weighted average, namely, f(g(x))*dg/dx\n",
    "            wfun = fx * wgh             # weight * function ~ wfun[om,i] = f[om,i]*w[i]            \n",
    "            cum.sum += sum(wfun,axis=1) # <fw>[om] = sum_i f[om,i]*w[i]\n",
    "            wfun2 = abs(wfun*conj(wfun))*all_nsamples # <fw^2>[om,i] = (|f[om,i]|^2*w[i]^2*N)\n",
    "            cum.sqsum += sum(wfun2, axis=1).real # <fw^2>[om] = sum_i <fw^2>[om,i]   \n",
    "            #\n",
    "            SetFxbin(fxbin,bins,wfun2[0,:])\n",
    "\n",
    "        w1 = cum.sqsum-abs(cum.sum)**2   # w1 = <fw^2>[om]-<fw>[om]^2\n",
    "        w = (all_nsamples-1)/w1            # w ~ 1/sigma_i^2 = (N-1)/(<fw^2>-<fw>^2)\n",
    "        # Note that variance of the MC sampling is Var(monte-f) = (<f^2>-<f>^2)/N == 1/sigma_i^2\n",
    "        cum.weightsum += w          # weightsum[om] ~ \\sum_i 1/sigma_i^2\n",
    "        cum.avgsum += w*cum.sum     # avgsum[om]    ~ \\sum_i <fw>_i / sigma_i^2\n",
    "        cum.avg2sum += w*abs(cum.sum)**2  # avg2cum[om]   ~ \\sum_i <fw>_i^2/sigma_i^2\n",
    "        \n",
    "        cum.avg = cum.avgsum/cum.weightsum     # I_best[om] = (\\sum_i <fw>_i/sigma_i^2 )/(\\sum_i 1/sigma_i^2)\n",
    "        cum.err = sqrt(1/cum.weightsum)        # err[om] ~ sqrt(best sigma^2) = sqrt(1/(\\sum_i 1/sigma_i^2))\n",
    "        \n",
    "        chisq=0\n",
    "        if iter>0:\n",
    "            cum.chisq += abs(cum.sum - cum.avg)**2*w\n",
    "            chisq = cum.chisq[0]/iter\n",
    "        print (\"Iteration {:3d}: I= {:10.8f} +- {:10.8f}  chisq= {:10.8f} number of evaluations = {:7d} \".format(iter+1, cum.avg[0]*unit_dim, cum.err[0]*unit_dim, chisq, neval))\n",
    "        imp = Smoothen(fxbin)\n",
    "        grid.RefineGrid(imp)\n",
    "        \n",
    "        cum.sum[:]=0                    # clear the partial sum for the next step\n",
    "        cum.sqsum[:]=0\n",
    "        all_nsamples += nincrease    # for the next time, increase the number of steps a bit\n",
    "        if (neval>=maxeval): break\n",
    "            \n",
    "    cum.chisq *= 1./(iter)\n",
    "    cum.avg *= unit_dim\n",
    "    cum.err *= unit_dim"
   ]
  },
  {
   "cell_type": "code",
   "execution_count": 20,
   "id": "other-professor",
   "metadata": {},
   "outputs": [
    {
     "name": "stdout",
     "output_type": "stream",
     "text": [
      "<__main__.Linhard2 object at 0x000002573440DCD0>\n",
      "Vegas parameters:\n",
      "       ndim = 3\n",
      "       limits = [-2.878737439016269, 2.878737439016269]\n",
      "       maxeval = 10000000\n",
      "       nstart = 200000\n",
      "       nincrease = 100000\n",
      "       nbins = 128\n",
      "       nbaths = 1000\n",
      "\n",
      "Iteration   1: I= -0.04681272+0.00006840j +- 0.00155251  chisq= 0.00000000 number of evaluations =  200000 \n",
      "Iteration   2: I= -0.04745019-0.00002381j +- 0.00025367  chisq= 0.00472137 number of evaluations =  500000 \n",
      "Iteration   3: I= -0.04775967-0.00000458j +- 0.00016299  chisq= 0.52771010 number of evaluations =  900000 \n",
      "Iteration   4: I= -0.04780407+0.00000135j +- 0.00012441  chisq= 0.38695255 number of evaluations = 1400000 \n",
      "Iteration   5: I= -0.04778654-0.00000148j +- 0.00010196  chisq= 0.30064035 number of evaluations = 2000000 \n",
      "Iteration   6: I= -0.04774914+0.00000580j +- 0.00008767  chisq= 0.31971263 number of evaluations = 2700000 \n",
      "Iteration   7: I= -0.04776660+0.00000420j +- 0.00007701  chisq= 0.28896023 number of evaluations = 3500000 \n",
      "Iteration   8: I= -0.04777781+0.00000408j +- 0.00006847  chisq= 0.25908997 number of evaluations = 4400000 \n",
      "Iteration   9: I= -0.04777989+0.00000919j +- 0.00006152  chisq= 0.23011053 number of evaluations = 5400000 \n",
      "Iteration  10: I= -0.04776392+0.00000413j +- 0.00005595  chisq= 0.24388344 number of evaluations = 6500000 \n",
      "Iteration  11: I= -0.04774335+0.00000611j +- 0.00005129  chisq= 0.29138420 number of evaluations = 7700000 \n",
      "Iteration  12: I= -0.04778436+0.00000701j +- 0.00004733  chisq= 0.59872218 number of evaluations = 9000000 \n",
      "Iteration  13: I= -0.04777566+0.00000567j +- 0.00004391  chisq= 0.56660268 number of evaluations = 10400000 \n"
     ]
    }
   ],
   "source": [
    "from numpy import *\n",
    "\n",
    "Omega = linspace(0,0.5*kF**2,100)\n",
    "lh2 = Linhard2(Omega, q, kF, T, broad)\n",
    "cum = CumulantsW(Omega)\n",
    "ndim=3\n",
    "grids = Grid(ndim,nbins)\n",
    "\n",
    "print(lh2)\n",
    "\n",
    "Vegas_step5(lh2, [-cutoff,cutoff], maxeval, nstart, nincrease, grids, cum)"
   ]
  },
  {
   "cell_type": "code",
   "execution_count": 18,
   "id": "instructional-photographer",
   "metadata": {},
   "outputs": [
    {
     "data": {
      "image/png": "[encoded data removed]",
      "text/plain": [
       "<Figure size 432x288 with 1 Axes>"
      ]
     },
     "metadata": {
      "needs_background": "light"
     },
     "output_type": "display_data"
    }
   ],
   "source": [
    "import matplotlib.pyplot as plt\n",
    "%matplotlib inline\n",
    "errorbar(Omega,cum.avg.real/nF, yerr=cum.err)\n",
    "errorbar(Omega,cum.avg.imag/nF, yerr=cum.err);"
   ]
  },
  {
   "cell_type": "code",
   "execution_count": 19,
   "id": "handmade-cleaner",
   "metadata": {},
   "outputs": [
    {
     "name": "stdout",
     "output_type": "stream",
     "text": [
      "(-0.9836301798274265+2.4072214406718822e-05j) +- 0.0009107211948862138\n"
     ]
    },
    {
     "data": {
      "text/plain": [
       "[<matplotlib.lines.Line2D at 0x25734b30c70>]"
      ]
     },
     "execution_count": 19,
     "metadata": {},
     "output_type": "execute_result"
    },
    {
     "data": {
      "image/png": "[encoded data removed]",
      "text/plain": [
       "<Figure size 432x288 with 1 Axes>"
      ]
     },
     "metadata": {
      "needs_background": "light"
     },
     "output_type": "display_data"
    }
   ],
   "source": [
    "print (cum.avg[0]/nF, '+-', cum.err[0]/nF)\n",
    "\n",
    "plot(grids.g[0,:nbins],'o-')\n",
    "plot(grids.g[1,:nbins],'o-')\n",
    "plot(grids.g[2,:nbins],'o-')"
   ]
  },
  {
   "cell_type": "code",
   "execution_count": null,
   "id": "champion-terrain",
   "metadata": {},
   "outputs": [],
   "source": []
  }
 ],
 "metadata": {
  "kernelspec": {
   "display_name": "Python 3 (ipykernel)",
   "language": "python",
   "name": "python3"
  },
  "language_info": {
   "codemirror_mode": {
    "name": "ipython",
    "version": 3
   },
   "file_extension": ".py",
   "mimetype": "text/x-python",
   "name": "python",
   "nbconvert_exporter": "python",
   "pygments_lexer": "ipython3",
   "version": "3.9.1"
  }
 },
 "nbformat": 4,
 "nbformat_minor": 5
}
