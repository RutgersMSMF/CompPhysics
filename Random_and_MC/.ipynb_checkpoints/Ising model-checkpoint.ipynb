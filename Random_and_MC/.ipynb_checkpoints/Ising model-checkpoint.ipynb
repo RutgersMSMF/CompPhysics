{
 "cells": [
  {
   "cell_type": "markdown",
   "metadata": {},
   "source": [
    "# Simulation of the Ising model"
   ]
  },
  {
   "cell_type": "code",
   "execution_count": 1,
   "metadata": {},
   "outputs": [],
   "source": [
    "from numba import jit\n",
    "from numpy import *\n",
    "from numpy import random\n",
    "\n",
    "N = 20 # size of the Ising system N x N\n",
    "\n",
    "@jit(nopython=True)\n",
    "def CEnergy(latt):\n",
    "    \"Energy of a 2D Ising lattice at particular configuration\"\n",
    "    Ene = 0\n",
    "    for i in range(len(latt)):\n",
    "        for j in range(len(latt)):\n",
    "            S = latt[i,j]\n",
    "            #      right                 below             left                above\n",
    "            WF = latt[(i+1)%N, j] + latt[i,(j+1)%N] + latt[(i-1)%N,j] + latt[i,(j-1)%N]\n",
    "            Ene += -WF*S # Each neighbor gives energy -J==-1\n",
    "    return Ene/2. # Each pair counted twice\n",
    "\n",
    "\n",
    "def RandomL(N):\n",
    "    \"Radom lattice, corresponding to infinite temerature\"\n",
    "    latt = sign(2*random.random((N,N))-1)\n",
    "    latt = array( latt, dtype=int)\n",
    "    return latt\n",
    "\n",
    "def Exponents(T):\n",
    "    PW = zeros(9, dtype=float)\n",
    "    # Precomputed exponents : PW[4+x]=exp(-x*2/T)\n",
    "    PW[4+4] = exp(-4.*2/T)\n",
    "    PW[4+2] = exp(-2.*2/T)\n",
    "    PW[4+0] = 1.0\n",
    "    PW[4-2] = exp( 2.*2/T)\n",
    "    PW[4-4] = exp( 4.*2/T)\n",
    "    return PW"
   ]
  },
  {
   "cell_type": "code",
   "execution_count": 2,
   "metadata": {},
   "outputs": [
    {
     "name": "stdout",
     "output_type": "stream",
     "text": [
      "[[-1 -1  1 -1 -1  1 -1  1  1  1 -1  1 -1  1 -1  1  1 -1  1  1]\n",
      " [ 1  1 -1 -1  1 -1  1  1  1 -1  1 -1  1 -1 -1  1 -1  1 -1  1]\n",
      " [-1  1 -1  1 -1 -1  1  1 -1  1  1 -1 -1 -1 -1  1 -1 -1  1  1]\n",
      " [-1  1 -1 -1 -1  1  1  1  1 -1  1 -1  1  1 -1  1 -1 -1  1  1]\n",
      " [ 1 -1  1 -1 -1  1 -1  1 -1  1  1 -1 -1 -1 -1 -1  1  1 -1 -1]\n",
      " [ 1  1 -1 -1 -1  1  1  1  1 -1  1  1 -1 -1  1 -1 -1  1 -1  1]\n",
      " [ 1  1 -1  1  1  1  1  1 -1  1 -1  1  1 -1 -1  1  1  1  1  1]\n",
      " [-1  1  1 -1 -1  1 -1  1  1 -1 -1  1 -1  1 -1 -1  1  1  1  1]\n",
      " [ 1 -1  1  1 -1  1  1  1  1 -1 -1  1  1 -1  1  1  1 -1  1 -1]\n",
      " [-1  1  1  1  1 -1  1 -1 -1 -1  1 -1 -1  1  1  1  1 -1 -1  1]\n",
      " [ 1  1  1 -1 -1 -1  1 -1  1  1 -1  1 -1 -1  1 -1  1  1  1 -1]\n",
      " [ 1  1  1 -1  1  1 -1 -1 -1  1  1  1  1 -1  1  1  1  1 -1 -1]\n",
      " [ 1  1 -1 -1  1  1  1 -1 -1  1  1  1  1 -1  1  1 -1  1  1 -1]\n",
      " [ 1 -1  1  1  1  1  1 -1 -1  1 -1 -1 -1  1 -1  1  1  1  1 -1]\n",
      " [-1 -1 -1 -1 -1  1  1 -1  1 -1 -1 -1 -1  1  1  1  1 -1 -1  1]\n",
      " [ 1 -1 -1 -1 -1  1 -1 -1  1 -1 -1 -1 -1 -1  1  1 -1 -1 -1  1]\n",
      " [ 1  1 -1 -1  1 -1 -1 -1  1  1 -1 -1 -1  1  1 -1  1 -1 -1 -1]\n",
      " [ 1  1  1 -1 -1 -1 -1 -1  1  1 -1 -1 -1 -1 -1 -1 -1 -1  1  1]\n",
      " [ 1 -1 -1  1 -1  1 -1 -1  1 -1  1  1  1 -1 -1  1  1 -1  1  1]\n",
      " [ 1 -1 -1  1  1 -1  1  1 -1  1  1 -1  1  1  1 -1 -1 -1 -1  1]]\n",
      "Energy= -4.0\n",
      "Exponents= [5.45981500e+01 0.00000000e+00 7.38905610e+00 0.00000000e+00\n",
      " 1.00000000e+00 0.00000000e+00 1.35335283e-01 0.00000000e+00\n",
      " 1.83156389e-02]\n"
     ]
    }
   ],
   "source": [
    "latt = RandomL(N)\n",
    "print(latt)\n",
    "print('Energy=', CEnergy(latt))\n",
    "T=2.\n",
    "PW = Exponents(T)\n",
    "\n",
    "print('Exponents=', PW)"
   ]
  },
  {
   "cell_type": "code",
   "execution_count": 3,
   "metadata": {},
   "outputs": [],
   "source": [
    "@jit(nopython=True)\n",
    "def SamplePython(Nitt, latt, PW, warm, measure):\n",
    "    \"Monte Carlo sampling for the Ising model in Pythons\"\n",
    "    Ene = CEnergy(latt)  # Starting energy\n",
    "    Mn  =sum(latt)         # Starting magnetization\n",
    "    N   = len(latt)\n",
    "    \n",
    "    N1=0       # Measurements\n",
    "    E1,M1,E2,M2=0.0,0.0,0.0,0.0\n",
    "    \n",
    "    N2 = N*N\n",
    "    for itt in range(Nitt):\n",
    "        t = int(random.rand()*N2)\n",
    "        (i,j) = (t % N, int(t/N))\n",
    "        S = latt[i,j]\n",
    "        WF = latt[(i+1)%N, j] + latt[i,(j+1)%N] + latt[(i-1)%N,j] + latt[i,(j-1)%N]\n",
    "        # new configuration -S, old configuration S => magnetization change -2*S\n",
    "        # energy change = (-J)*WF*(-S) - (-J)*WF*(S) = 2*J**WF*S\n",
    "        # We will prepare : PW[4+x]=exp(-x*2/T)\n",
    "        # P = exp(-2*WF*S/T) = exp(-(WF*S)*2/T) == PW[4+WF*S],\n",
    "        # because PW[4+x]=exp(-x*2/T)\n",
    "        P = PW[4+S*WF]\n",
    "        if P>random.rand(): # flip the spin\n",
    "            latt[i,j] = -S\n",
    "            Ene += 2*S*WF\n",
    "            Mn -= 2*S\n",
    "            \n",
    "        if itt>warm and itt%measure==0:\n",
    "            N1 += 1\n",
    "            E1 += Ene\n",
    "            M1 += Mn\n",
    "            E2 += Ene*Ene\n",
    "            M2 += Mn*Mn\n",
    "       \n",
    "    E,M = E1/N1, M1/N1\n",
    "    cv = (E2/N1-E**2)/T**2   #   cv =(<E^2>-<E>^2)/T^2\n",
    "    chi = (M2/N1-M**2)/T     #   chi=(<M^2>-<M>^2)/T\n",
    "    return (M/N2, E/N2, cv/N2, chi/N2)"
   ]
  },
  {
   "cell_type": "code",
   "execution_count": 4,
   "metadata": {},
   "outputs": [
    {
     "name": "stdout",
     "output_type": "stream",
     "text": [
      "<M>= 0.0022414117362589882 <E>= -0.004348314711256963 cv= 0.9349253659622991 chi= 2.992323001565801\n"
     ]
    }
   ],
   "source": [
    "Nitt = 5000000  # total number of Monte Carlo steps\n",
    "warm = 1000      # Number of warmup steps\n",
    "measure=5        # How often to take a measurement\n",
    "\n",
    "\n",
    "(M, E, cv, chi) = SamplePython(Nitt, latt, PW, warm, measure)\n",
    "#(aM, aE, cv, chi) = SampleCPP(Nitt, latt, PW,T, warm, measure)\n",
    "print('<M>=', M/(N*N), '<E>=', E/(N*N) , 'cv=', cv, 'chi=',chi)"
   ]
  },
  {
   "cell_type": "code",
   "execution_count": 5,
   "metadata": {},
   "outputs": [
    {
     "name": "stdout",
     "output_type": "stream",
     "text": [
      "T= 5.0 M= 0.0002511004711947101 E= -0.42886407167840734 cv= 0.6071037004643085 chi= 1.438722195406618\n",
      "T= 4.844827586206897 M= -0.0010554221398501099 E= -0.44325777481273737 cv= 0.6227599183937877 chi= 1.5212190766351654\n",
      "T= 4.689655172413793 M= 9.139837107258559e-05 E= -0.4599392177827743 cv= 0.622170976992843 chi= 1.5893918873727324\n",
      "T= 4.5344827586206895 M= -0.0008484955476050686 E= -0.4799164732111154 cv= 0.6283849778483364 chi= 1.7203795312887045\n",
      "T= 4.379310344827586 M= -0.0007391335658467351 E= -0.5001508703249353 cv= 0.6407831616875183 chi= 1.7608285298108606\n",
      "T= 4.224137931034483 M= -0.002167530673665407 E= -0.520740848910631 cv= 0.6613960059183819 chi= 1.8478911521445318\n",
      "T= 4.068965517241379 M= -0.0005330621454912438 E= -0.5458311020515123 cv= 0.6812060807439093 chi= 1.9885265792152722\n",
      "T= 3.913793103448276 M= -0.0009354380230426315 E= -0.5708473903254554 cv= 0.6992924051702858 chi= 2.248376329960112\n",
      "T= 3.7586206896551726 M= 0.0019333135960328026 E= -0.6016615639743589 cv= 0.7186380922644321 chi= 2.4961320575070367\n",
      "T= 3.603448275862069 M= -0.003542387019790978 E= -0.6345241593560306 cv= 0.7354201190632103 chi= 2.650619252760141\n",
      "T= 3.4482758620689653 M= -0.003862986460278516 E= -0.6740100060112083 cv= 0.75686007726551 chi= 3.4234795864095178\n",
      "T= 3.293103448275862 M= -0.003450223494922479 E= -0.716952747502248 cv= 0.8044734710326975 chi= 3.7085515989809075\n",
      "T= 3.1379310344827585 M= -0.0003643232289690228 E= -0.7664983861756213 cv= 0.8146921396346807 chi= 4.561052990703901\n",
      "T= 2.9827586206896552 M= 0.00047981144209986205 E= -0.8232291190529297 cv= 0.8952298397989125 chi= 6.090870185358067\n",
      "T= 2.8275862068965516 M= -0.006129306990705131 E= -0.8939711982108404 cv= 0.9705849030278841 chi= 8.044993528111739\n",
      "T= 2.6724137931034484 M= -0.00995775150805312 E= -0.9840990839158671 cv= 1.1381883446923893 chi= 13.302680221809323\n",
      "T= 2.5172413793103448 M= 0.044621949011751365 E= -1.098411550721695 cv= 1.3870701246998396 chi= 24.869310367619434\n",
      "T= 2.362068965517241 M= -0.07263731510033516 E= -1.2984190622315086 cv= 2.2002839708925603 chi= 64.97764459498423\n",
      "T= 2.206896551724138 M= -0.723183189821154 E= -1.5350025155056166 cv= 1.7005062586252826 chi= 19.273107902535358\n",
      "T= 2.0517241379310343 M= -0.8921447560959753 E= -1.7061668895447986 cv= 0.8452381746208993 chi= 0.5398277595565559\n",
      "T= 1.896551724137931 M= -0.9383260585377662 E= -1.8098721843090462 cv= 0.49918857354652574 chi= 0.1805925107344592\n",
      "T= 1.7413793103448274 M= -0.9650439088256739 E= -1.8829074343943133 cv= 0.28991843603864254 chi= 0.07236707026168006\n",
      "T= 1.5862068965517242 M= -0.9806602127027533 E= -1.9314854385731532 cv= 0.15796962346998045 chi= 0.031475217878614785\n",
      "T= 1.4310344827586206 M= -0.989914902895482 E= -1.9628770682907264 cv= 0.0855386774573708 chi= 0.014539814490381104\n",
      "T= 1.275862068965517 M= -0.995299845268899 E= -1.982236209478105 cv= 0.03834898537585105 chi= 0.005901523383399763\n",
      "T= 1.1206896551724137 M= -0.9982487680023685 E= -1.9931991630317694 cv= 0.014027760885946918 chi= 0.0019432611794763944\n",
      "T= 0.9655172413793105 M= -0.9994398274053085 E= -1.997787995387073 cv= 0.004654237409486086 chi= 0.0006079661485273391\n",
      "T= 0.8103448275862064 M= -0.9998761301021506 E= -1.9995135222179659 cv= 0.0010047806545480853 chi= 0.00013367373489018064\n",
      "T= 0.6551724137931032 M= -0.9999906481202722 E= -1.9999625924810887 cv= 7.467510564310941e-05 chi= 9.33438819629373e-06\n",
      "T= 0.5 M= -0.9999999249849219 E= -1.9999996999396878 cv= 6.001115980325267e-07 chi= 7.501395884901285e-08\n"
     ]
    }
   ],
   "source": [
    "wT = linspace(5,0.5,30)\n",
    "wMag=[]\n",
    "wEne=[]\n",
    "wCv=[]\n",
    "wChi=[]\n",
    "N2 = N*N\n",
    "for T in wT:\n",
    "    # Precomputed exponents : PW[4+x]=exp(-x*2/T)\n",
    "    PW = Exponents(T)\n",
    "    \n",
    "    (M, E, cv, chi) = SamplePython(Nitt, latt, PW, warm, measure)\n",
    "    wMag.append( M )\n",
    "    wEne.append( E )\n",
    "    wCv.append(  cv )\n",
    "    wChi.append( chi )\n",
    "    print('T=',T, 'M=', M, 'E=', E, 'cv=', cv, 'chi=', chi)"
   ]
  },
  {
   "cell_type": "code",
   "execution_count": 6,
   "metadata": {},
   "outputs": [
    {
     "data": {
      "image/png": "[encoded data removed]",
      "text/plain": [
       "<Figure size 432x288 with 1 Axes>"
      ]
     },
     "metadata": {
      "needs_background": "light"
     },
     "output_type": "display_data"
    },
    {
     "data": {
      "image/png": "[encoded data removed]",
      "text/plain": [
       "<Figure size 432x288 with 1 Axes>"
      ]
     },
     "metadata": {
      "needs_background": "light"
     },
     "output_type": "display_data"
    }
   ],
   "source": [
    "from pylab import *\n",
    "%matplotlib inline\n",
    "\n",
    "plot(wT, wEne, label='E(T)')\n",
    "plot(wT, wCv, label='cv(T)')\n",
    "plot(wT, wMag, label='M(T)')\n",
    "xlabel('T')\n",
    "legend(loc='best')\n",
    "show()\n",
    "plot(wT, wChi, label='chi(T)')\n",
    "xlabel('T')\n",
    "legend(loc='best')\n",
    "show() "
   ]
  },
  {
   "cell_type": "code",
   "execution_count": null,
   "metadata": {},
   "outputs": [],
   "source": []
  }
 ],
 "metadata": {
  "kernelspec": {
   "display_name": "Python 3 (ipykernel)",
   "language": "python",
   "name": "python3"
  },
  "language_info": {
   "codemirror_mode": {
    "name": "ipython",
    "version": 3
   },
   "file_extension": ".py",
   "mimetype": "text/x-python",
   "name": "python",
   "nbconvert_exporter": "python",
   "pygments_lexer": "ipython3",
   "version": "3.9.1"
  }
 },
 "nbformat": 4,
 "nbformat_minor": 2
}
