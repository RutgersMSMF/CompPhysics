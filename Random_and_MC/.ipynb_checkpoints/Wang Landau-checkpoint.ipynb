{
 "cells": [
  {
   "cell_type": "markdown",
   "metadata": {},
   "source": [
    "# Wang Landau algorithm"
   ]
  },
  {
   "cell_type": "code",
   "execution_count": 1,
   "metadata": {},
   "outputs": [],
   "source": [
    "from numpy import *\n",
    "from numpy import random\n",
    "from numba import jit\n",
    "\n",
    "@jit(nopython=True)\n",
    "def CEnergy(latt):\n",
    "    \"Energy of configuration for the 2D Ising model\"\n",
    "    N = shape(latt)[0]\n",
    "    Ene = 0\n",
    "    for i in range(len(latt)):\n",
    "        for j in range(len(latt)):\n",
    "            S = latt[i,j]   # Spin, can be either +1 or -1\n",
    "            WF = latt[(i+1)%N,j]+latt[i,(j+1)%N]+latt[(i-1)%N,j]+latt[i,(j-1)%N]\n",
    "            Ene += -S * WF\n",
    "    return Ene/2.\n",
    "\n",
    "def RandomL(N):\n",
    "    \"Random lattice corresponding to infinite temperature\"\n",
    "    return array(sign(2*random.random((N,N))-1),dtype=int) "
   ]
  },
  {
   "cell_type": "code",
   "execution_count": 2,
   "metadata": {},
   "outputs": [],
   "source": [
    "def PrepareEnergies(N):\n",
    "    Energies = (array(4*arange(-int(N*N/2),int(N*N/2)+1),dtype=int)).tolist() # -2 N^2...2N^2 in steps of 4\n",
    "    Energies.pop(1)  # take out E[1]\n",
    "    Energies.pop(-2) # take out E[-2]\n",
    "    Energies = array(Energies) # make array of energies again\n",
    "    Emin, Emax = Energies[0],Energies[-1]\n",
    "    #index array to energies\n",
    "    indE = -ones(Emax+1-Emin, dtype=int) # index table to get index to particular energy g(E)~g[indE[E]]\n",
    "    for i,E in enumerate(Energies):\n",
    "        indE[E-Emin]=i\n",
    "    # Ising lattice at infinite T\n",
    "    return (Energies, indE, Emin)"
   ]
  },
  {
   "cell_type": "code",
   "execution_count": 3,
   "metadata": {},
   "outputs": [
    {
     "name": "stdout",
     "output_type": "stream",
     "text": [
      "Emin= -200\n",
      "[-200 -192 -188 -184 -180 -176 -172 -168 -164 -160 -156 -152 -148 -144\n",
      " -140 -136 -132 -128 -124 -120 -116 -112 -108 -104 -100  -96  -92  -88\n",
      "  -84  -80  -76  -72  -68  -64  -60  -56  -52  -48  -44  -40  -36  -32\n",
      "  -28  -24  -20  -16  -12   -8   -4    0    4    8   12   16   20   24\n",
      "   28   32   36   40   44   48   52   56   60   64   68   72   76   80\n",
      "   84   88   92   96  100  104  108  112  116  120  124  128  132  136\n",
      "  140  144  148  152  156  160  164  168  172  176  180  184  188  192\n",
      "  200]\n",
      "[ 0 -1 -1 -1 -1 -1 -1 -1  1 -1 -1 -1  2 -1 -1 -1  3 -1 -1 -1  4 -1 -1 -1\n",
      "  5 -1 -1 -1  6 -1 -1 -1  7 -1 -1 -1  8 -1 -1 -1  9 -1 -1 -1 10 -1 -1 -1\n",
      " 11 -1 -1 -1 12 -1 -1 -1 13 -1 -1 -1 14 -1 -1 -1 15 -1 -1 -1 16 -1 -1 -1\n",
      " 17 -1 -1 -1 18 -1 -1 -1 19 -1 -1 -1 20 -1 -1 -1 21 -1 -1 -1 22 -1 -1 -1\n",
      " 23 -1 -1 -1 24 -1 -1 -1 25 -1 -1 -1 26 -1 -1 -1 27 -1 -1 -1 28 -1 -1 -1\n",
      " 29 -1 -1 -1 30 -1 -1 -1 31 -1 -1 -1 32 -1 -1 -1 33 -1 -1 -1 34 -1 -1 -1\n",
      " 35 -1 -1 -1 36 -1 -1 -1 37 -1 -1 -1 38 -1 -1 -1 39 -1 -1 -1 40 -1 -1 -1\n",
      " 41 -1 -1 -1 42 -1 -1 -1 43 -1 -1 -1 44 -1 -1 -1 45 -1 -1 -1 46 -1 -1 -1\n",
      " 47 -1 -1 -1 48 -1 -1 -1 49 -1 -1 -1 50 -1 -1 -1 51 -1 -1 -1 52 -1 -1 -1\n",
      " 53 -1 -1 -1 54 -1 -1 -1 55 -1 -1 -1 56 -1 -1 -1 57 -1 -1 -1 58 -1 -1 -1\n",
      " 59 -1 -1 -1 60 -1 -1 -1 61 -1 -1 -1 62 -1 -1 -1 63 -1 -1 -1 64 -1 -1 -1\n",
      " 65 -1 -1 -1 66 -1 -1 -1 67 -1 -1 -1 68 -1 -1 -1 69 -1 -1 -1 70 -1 -1 -1\n",
      " 71 -1 -1 -1 72 -1 -1 -1 73 -1 -1 -1 74 -1 -1 -1 75 -1 -1 -1 76 -1 -1 -1\n",
      " 77 -1 -1 -1 78 -1 -1 -1 79 -1 -1 -1 80 -1 -1 -1 81 -1 -1 -1 82 -1 -1 -1\n",
      " 83 -1 -1 -1 84 -1 -1 -1 85 -1 -1 -1 86 -1 -1 -1 87 -1 -1 -1 88 -1 -1 -1\n",
      " 89 -1 -1 -1 90 -1 -1 -1 91 -1 -1 -1 92 -1 -1 -1 93 -1 -1 -1 94 -1 -1 -1\n",
      " 95 -1 -1 -1 96 -1 -1 -1 97 -1 -1 -1 -1 -1 -1 -1 98]\n"
     ]
    }
   ],
   "source": [
    "Ene,indE,Emin = PrepareEnergies(10)\n",
    "print('Emin=',Emin)\n",
    "print(Ene)\n",
    "print(indE)"
   ]
  },
  {
   "cell_type": "code",
   "execution_count": 4,
   "metadata": {},
   "outputs": [],
   "source": [
    "from numpy import random\n",
    "def WangLandau(Nitt, N, flatness):\n",
    "    \"Wang Landau in Python\"\n",
    "    (Energies, indE, Emin) = PrepareEnergies(N)\n",
    "    latt = RandomL(N)\n",
    "    return RunWangLandau(Nitt,Energies,latt,indE)"
   ]
  },
  {
   "cell_type": "code",
   "execution_count": 5,
   "metadata": {},
   "outputs": [],
   "source": [
    "@jit(nopython=True)\n",
    "def RunWangLandau(Nitt,Energies,latt,indE):\n",
    "    N   = len(latt)\n",
    "    Ene = int(CEnergy(latt))\n",
    "    #min,maximum energy\n",
    "    Emin, Emax = Energies[0],Energies[-1]\n",
    "    # Logarithm of the density of states\n",
    "    lngE = zeros(len(Energies))\n",
    "    # Histogram\n",
    "    Hist = zeros(len(Energies))\n",
    "    # modification factor\n",
    "    lnf = 1.0   # f = exp(lnf)=e\n",
    "    N2 = N*N\n",
    "    for itt in range(Nitt):\n",
    "        t = int(random.rand()*N2)\n",
    "        (i, j) = (int(t/N), t%N)\n",
    "        S = latt[i,j]\n",
    "        WF = latt[(i+1)%N,j]+latt[i,(j+1)%N]+latt[(i-1)%N,j]+latt[i,(j-1)%N]\n",
    "        Enew = Ene + int(2*S*WF) # the energy change if we flip the spin\n",
    "        # P = g(E)/g(Enew) = exp(log(g(E))-log(g(Enew)))\n",
    "        # P = exp(lngE(E)-lngE(Enew))\n",
    "        lgnew = lngE[indE[Enew-Emin]]\n",
    "        lgold = lngE[indE[Ene-Emin]]\n",
    "        P = 1.0\n",
    "        if lgold-lgnew < 0 : P=exp(lgold-lgnew) # P = g_old/g_new = exp(log(g_old)-log(g_new))\n",
    "        if P > random.rand():\n",
    "            # accept the step\n",
    "            latt[i,j] = -S\n",
    "            Ene = Enew\n",
    "        Hist[indE[Ene-Emin]] += 1\n",
    "        lngE[indE[Ene-Emin]] += lnf\n",
    "        \n",
    "        if (itt+1) % 1000 == 0: # checking for flatness of the histogram\n",
    "            aH = sum(Hist)/N2 # average\n",
    "            mH = min(Hist)\n",
    "            if mH > aH*flatness:  # histogram is flat\n",
    "                Hist[:] = 0\n",
    "                lnf /= 2.\n",
    "                print(itt, 'histogram is flat', mH, aH, 'f=', exp(lnf))\n",
    "    return (lngE, Hist, Energies)"
   ]
  },
  {
   "cell_type": "code",
   "execution_count": 6,
   "metadata": {},
   "outputs": [
    {
     "name": "stdout",
     "output_type": "stream",
     "text": [
      "7426999 histogram is flat 16727.0 18567.5 f= 1.6487212707001282\n",
      "9085999 histogram is flat 3734.0 4147.5 f= 1.2840254166877414\n",
      "11373999 histogram is flat 5149.0 5720.0 f= 1.1331484530668263\n",
      "13554999 histogram is flat 4913.0 5452.5 f= 1.0644944589178593\n",
      "16735999 histogram is flat 7164.0 7952.5 f= 1.0317434074991028\n",
      "18987999 histogram is flat 5077.0 5630.0 f= 1.0157477085866857\n",
      "21763999 histogram is flat 6265.0 6940.0 f= 1.007843097206448\n",
      "24869999 histogram is flat 6990.0 7765.0 f= 1.0039138893383475\n",
      "28352999 histogram is flat 7837.0 8707.5 f= 1.0019550335910028\n",
      "36070999 histogram is flat 17433.0 19295.0 f= 1.0009770394924165\n",
      "42304999 histogram is flat 14059.0 15585.0 f= 1.0004884004786945\n",
      "52816999 histogram is flat 23673.0 26280.0 f= 1.0002441704297478\n",
      "71084999 histogram is flat 41135.0 45670.0 f= 1.0001220777633837\n"
     ]
    }
   ],
   "source": [
    "from numpy import random\n",
    "\n",
    "flatness = 0.9\n",
    "N = 20\n",
    "Nitt = int(100e6)\n",
    "\n",
    "#N=10\n",
    "#Nitt = int(10e6)\n",
    "\n",
    "(lngE, Hist, Energies) = WangLandau(Nitt, N, flatness)"
   ]
  },
  {
   "cell_type": "code",
   "execution_count": 14,
   "metadata": {},
   "outputs": [
    {
     "name": "stdout",
     "output_type": "stream",
     "text": [
      "0.0\n",
      "[2.28176759e-01 6.03115527e+00 6.78078906e+00 1.14833037e+01\n",
      " 1.28159453e+01 1.64765898e+01 1.81511504e+01 2.12060820e+01\n",
      " 2.31572539e+01 2.57767607e+01 2.77970244e+01 3.00991484e+01\n",
      " 3.22080352e+01 3.44909941e+01 3.67068145e+01 3.88338896e+01\n",
      " 4.09731719e+01 4.29328887e+01 4.50693633e+01 4.70362822e+01\n",
      " 4.90968291e+01 5.10102813e+01 5.31467559e+01 5.50483672e+01\n",
      " 5.70901152e+01 5.90836455e+01 6.09551055e+01 6.29073760e+01\n",
      " 6.48699004e+01 6.68543975e+01 6.87499053e+01 7.06437041e+01\n",
      " 7.25217559e+01 7.44015166e+01 7.63910186e+01 7.81501738e+01\n",
      " 7.99996611e+01 8.18153350e+01 8.36433379e+01 8.54847686e+01\n",
      " 8.72308623e+01 8.91122100e+01 9.09211699e+01 9.27608916e+01\n",
      " 9.45268828e+01 9.63979766e+01 9.81883818e+01 9.99465605e+01\n",
      " 1.01784329e+02 1.03565335e+02 1.05353665e+02 1.07161404e+02\n",
      " 1.08975003e+02 1.10699124e+02 1.12422635e+02 1.14195340e+02\n",
      " 1.15978665e+02 1.17786282e+02 1.19540921e+02 1.21278592e+02\n",
      " 1.22970853e+02 1.24742947e+02 1.26476712e+02 1.28258694e+02\n",
      " 1.29922146e+02 1.31723172e+02 1.33400052e+02 1.35133572e+02\n",
      " 1.36931790e+02 1.38656277e+02 1.40375271e+02 1.42112332e+02\n",
      " 1.43808255e+02 1.45559720e+02 1.47273465e+02 1.48956692e+02\n",
      " 1.50661526e+02 1.52344266e+02 1.53999051e+02 1.55613431e+02\n",
      " 1.57285306e+02 1.58917020e+02 1.60591580e+02 1.62316067e+02\n",
      " 1.64026639e+02 1.65678860e+02 1.67374295e+02 1.68986722e+02\n",
      " 1.70600857e+02 1.72160306e+02 1.73815701e+02 1.75360867e+02\n",
      " 1.76922879e+02 1.78492825e+02 1.80044461e+02 1.81611600e+02\n",
      " 1.83068143e+02 1.84634549e+02 1.86180447e+02 1.87666287e+02\n",
      " 1.89249173e+02 1.90717190e+02 1.92270657e+02 1.93688626e+02\n",
      " 1.95150296e+02 1.96594876e+02 1.98033597e+02 1.99511502e+02\n",
      " 2.00932400e+02 2.02383694e+02 2.03816189e+02 2.05208768e+02\n",
      " 2.06567776e+02 2.07998074e+02 2.09378934e+02 2.10770169e+02\n",
      " 2.12120022e+02 2.13504422e+02 2.14854642e+02 2.16211697e+02\n",
      " 2.17531399e+02 2.18854886e+02 2.20126980e+02 2.21406766e+02\n",
      " 2.22703274e+02 2.23936429e+02 2.25167630e+02 2.26393094e+02\n",
      " 2.27603665e+02 2.28805569e+02 2.30004178e+02 2.31216092e+02\n",
      " 2.32390652e+02 2.33506619e+02 2.34634549e+02 2.35758084e+02\n",
      " 2.36880032e+02 2.37969021e+02 2.39081692e+02 2.40135281e+02\n",
      " 2.41178860e+02 2.42180813e+02 2.43188504e+02 2.44243558e+02\n",
      " 2.45259427e+02 2.46225125e+02 2.47220975e+02 2.48171536e+02\n",
      " 2.49097439e+02 2.50026150e+02 2.50923367e+02 2.51788357e+02\n",
      " 2.52654935e+02 2.53521878e+02 2.54336575e+02 2.55169461e+02\n",
      " 2.55969144e+02 2.56804471e+02 2.57573758e+02 2.58343655e+02\n",
      " 2.59062894e+02 2.59813382e+02 2.60517239e+02 2.61224759e+02\n",
      " 2.61894559e+02 2.62551175e+02 2.63190213e+02 2.63829861e+02\n",
      " 2.64414456e+02 2.65015652e+02 2.65615506e+02 2.66207547e+02\n",
      " 2.66727322e+02 2.67232449e+02 2.67715481e+02 2.68199368e+02\n",
      " 2.68654202e+02 2.69095730e+02 2.69539334e+02 2.69922024e+02\n",
      " 2.70320706e+02 2.70680813e+02 2.71043973e+02 2.71392117e+02\n",
      " 2.71710721e+02 2.71999905e+02 2.72271512e+02 2.72522366e+02\n",
      " 2.72757352e+02 2.72972439e+02 2.73142972e+02 2.73322049e+02\n",
      " 2.73452908e+02 2.73564480e+02 2.73705472e+02 2.73788602e+02\n",
      " 2.73831570e+02 2.73883206e+02 2.73916897e+02 2.73894803e+02\n",
      " 2.73900174e+02 2.73853055e+02 2.73793362e+02 2.73725613e+02\n",
      " 2.73638943e+02 2.73524808e+02 2.73389676e+02 2.73210843e+02\n",
      " 2.73068631e+02 2.72874173e+02 2.72672269e+02 2.72428616e+02\n",
      " 2.72168729e+02 2.71923001e+02 2.71635037e+02 2.71325589e+02\n",
      " 2.70993436e+02 2.70665188e+02 2.70287869e+02 2.69887356e+02\n",
      " 2.69495633e+02 2.69095364e+02 2.68638577e+02 2.68199856e+02\n",
      " 2.67706814e+02 2.67186795e+02 2.66667020e+02 2.66148831e+02\n",
      " 2.65633816e+02 2.65012356e+02 2.64374905e+02 2.63782254e+02\n",
      " 2.63160184e+02 2.62537869e+02 2.61882718e+02 2.61173001e+02\n",
      " 2.60472195e+02 2.59764920e+02 2.59011990e+02 2.58287015e+02\n",
      " 2.57541653e+02 2.56782986e+02 2.55965604e+02 2.55135281e+02\n",
      " 2.54284329e+02 2.53451932e+02 2.52645535e+02 2.51772732e+02\n",
      " 2.50889065e+02 2.49949124e+02 2.48979397e+02 2.48035184e+02\n",
      " 2.47021756e+02 2.46036282e+02 2.45011258e+02 2.44023465e+02\n",
      " 2.42990994e+02 2.41982083e+02 2.40932034e+02 2.39886990e+02\n",
      " 2.38832059e+02 2.37745877e+02 2.36657010e+02 2.35542996e+02\n",
      " 2.34419095e+02 2.33282620e+02 2.32117581e+02 2.30978909e+02\n",
      " 2.29795315e+02 2.28617947e+02 2.27366604e+02 2.26172024e+02\n",
      " 2.24908841e+02 2.23626370e+02 2.22381863e+02 2.21124173e+02\n",
      " 2.19810452e+02 2.18502835e+02 2.17168484e+02 2.15856595e+02\n",
      " 2.14531033e+02 2.13173123e+02 2.11849881e+02 2.10525296e+02\n",
      " 2.09149197e+02 2.07792874e+02 2.06387723e+02 2.04997464e+02\n",
      " 2.03515652e+02 2.02102688e+02 2.00705716e+02 1.99311795e+02\n",
      " 1.97866360e+02 1.96384183e+02 1.94916043e+02 1.93475247e+02\n",
      " 1.92000638e+02 1.90538235e+02 1.89058133e+02 1.87506985e+02\n",
      " 1.86021146e+02 1.84559842e+02 1.83046292e+02 1.81546048e+02\n",
      " 1.79998929e+02 1.78435818e+02 1.76892117e+02 1.75326810e+02\n",
      " 1.73770901e+02 1.72190579e+02 1.70624295e+02 1.69005032e+02\n",
      " 1.67407010e+02 1.65748563e+02 1.64095975e+02 1.62497830e+02\n",
      " 1.60833401e+02 1.59198392e+02 1.57504300e+02 1.55862698e+02\n",
      " 1.54145901e+02 1.52524808e+02 1.50855984e+02 1.49191800e+02\n",
      " 1.47545071e+02 1.45856839e+02 1.44209622e+02 1.42498440e+02\n",
      " 1.40786526e+02 1.39069852e+02 1.37346707e+02 1.35630154e+02\n",
      " 1.33904080e+02 1.32204983e+02 1.30493802e+02 1.28841702e+02\n",
      " 1.27055569e+02 1.25370511e+02 1.23710721e+02 1.21909207e+02\n",
      " 1.20224148e+02 1.18536160e+02 1.16831326e+02 1.15066678e+02\n",
      " 1.13320462e+02 1.11618191e+02 1.09840481e+02 1.08057645e+02\n",
      " 1.06288968e+02 1.04411893e+02 1.02636136e+02 1.00833523e+02\n",
      " 9.90863311e+01 9.72741973e+01 9.54656035e+01 9.37048613e+01\n",
      " 9.19402129e+01 9.00837676e+01 8.82845732e+01 8.64774443e+01\n",
      " 8.46712920e+01 8.28829619e+01 8.10711943e+01 7.91727568e+01\n",
      " 7.73413359e+01 7.54040801e+01 7.35095488e+01 7.16686064e+01\n",
      " 6.98199736e+01 6.78738066e+01 6.59831816e+01 6.40511748e+01\n",
      " 6.21434600e+01 6.02333037e+01 5.83026396e+01 5.63157012e+01\n",
      " 5.42446563e+01 5.22480742e+01 5.02571074e+01 4.81731230e+01\n",
      " 4.62124297e+01 4.41283232e+01 4.19612090e+01 3.98257109e+01\n",
      " 3.77001006e+01 3.55189482e+01 3.33524443e+01 3.12688262e+01\n",
      " 2.88341338e+01 2.68619658e+01 2.43592803e+01 2.23246123e+01\n",
      " 1.93708770e+01 1.74856230e+01 1.37412383e+01 1.26418730e+01\n",
      " 7.81618945e+00 7.10146777e+00 1.00930469e+00]\n"
     ]
    }
   ],
   "source": [
    "# Proper normalization of the Density of states\n",
    "# g *= 4/(g[0]+g[-1])\n",
    "# log(g) += log(4)-log(g[-1])-log(1+exp(log(g[0])-log(g[-1])))\n",
    "# \n",
    "if lngE[-1]>lngE[0]:\n",
    "    lgC = log(4)-lngE[-1]-log(1+exp(lngE[0]-lngE[-1]))\n",
    "else:\n",
    "    lgC = log(4)-lngE[0]-log(1+exp(lngE[-1]-lngE[0]))\n",
    "    \n",
    "print(lgC)\n",
    "    \n",
    "lngE += lgC"
   ]
  },
  {
   "cell_type": "code",
   "execution_count": 8,
   "metadata": {},
   "outputs": [
    {
     "data": {
      "text/plain": [
       "3.9999999999951794"
      ]
     },
     "execution_count": 8,
     "metadata": {},
     "output_type": "execute_result"
    }
   ],
   "source": [
    "exp(lngE[0])+exp(lngE[-1])"
   ]
  },
  {
   "cell_type": "code",
   "execution_count": 9,
   "metadata": {},
   "outputs": [
    {
     "data": {
      "text/plain": [
       "[<matplotlib.lines.Line2D at 0x1a572f6aa30>]"
      ]
     },
     "execution_count": 9,
     "metadata": {},
     "output_type": "execute_result"
    },
    {
     "data": {
      "image/png": "[encoded data removed]",
      "text/plain": [
       "<Figure size 432x288 with 1 Axes>"
      ]
     },
     "metadata": {
      "needs_background": "light"
     },
     "output_type": "display_data"
    }
   ],
   "source": [
    "from pylab import *\n",
    "%matplotlib inline\n",
    "\n",
    "plot(lngE)"
   ]
  },
  {
   "cell_type": "code",
   "execution_count": 10,
   "metadata": {},
   "outputs": [],
   "source": [
    "def Thermod(T, lngE, Energies, N):\n",
    "    Z = 0.\n",
    "    Ev = 0.  # <E>\n",
    "    E2v = 0. # <E^2>\n",
    "    for i,E in enumerate(Energies):\n",
    "        w = exp(lngE[i]-lngE[0]-(E-Energies[0])/T) # g(E)/g0 Exp(-(E-E0)/T)\n",
    "        Z += w\n",
    "        Ev += w*E\n",
    "        E2v += w*E**2\n",
    "    Ev *= 1./Z\n",
    "    E2v *= 1./Z\n",
    "    cv = (E2v-Ev**2)/T**2\n",
    "    return (Ev/(N**2), cv/(N**2))"
   ]
  },
  {
   "cell_type": "code",
   "execution_count": 11,
   "metadata": {},
   "outputs": [],
   "source": [
    "Te = linspace(0.5,4.,300)\n",
    "\n",
    "Thm=[]\n",
    "for T in Te:\n",
    "    Thm.append(Thermod(T, lngE, Energies, N))\n",
    "Thm = array(Thm)"
   ]
  },
  {
   "cell_type": "code",
   "execution_count": 12,
   "metadata": {},
   "outputs": [
    {
     "data": {
      "image/png": "[encoded data removed]",
      "text/plain": [
       "<Figure size 432x288 with 1 Axes>"
      ]
     },
     "metadata": {
      "needs_background": "light"
     },
     "output_type": "display_data"
    }
   ],
   "source": [
    "from pylab import *\n",
    "%matplotlib inline\n",
    "\n",
    "plot(Te, Thm[:,0], label='E(T)')\n",
    "plot(Te, Thm[:,1], label='cv(T)')\n",
    "xlabel('T')\n",
    "legend(loc='best')\n",
    "show()"
   ]
  },
  {
   "cell_type": "markdown",
   "metadata": {},
   "source": [
    "## Homework\n",
    "\n",
    "* Estimate the error of the density of states $log(g(E))==S(E)$ for 32x32 Ising model. \n",
    "\n",
    "To do that, you can use five independent runs of WL agorithm, which will produce $S_i(E)$ for i=1..5. \n",
    "In each WL run use $10^9$ Monte Carlo steps. From the series of $S_i(E)$ you can calculate \n",
    "\\begin{eqnarray}\n",
    "&& <S(E)> = \\frac{1}{n} \\sum_{i=1}^n S_i(E) \\\\\n",
    "&& \\sigma_E = \\sqrt{\\frac{<S^2(E)>-<S(E)>^2}{n}} = \\sqrt{\\frac{1}{n^2} \\sum_{i=1}^n (S_i(E)-<S(E)>)^2}\n",
    "\\end{eqnarray}\n",
    "\n",
    "Plot $S_i(E)-<S(E)>$ and $\\sigma_E$. \n",
    "\n",
    "* According to the publication \"Exact Distribution of Energies in the Two-Dimensional Ising Model\", PRL 76, 78 (1995), the first 10 values for the density of states in 32x32 Ising model is:\n",
    "$g_{Exact}=[2,2048,4096,1057792,4218880,371621888,2191790080,100903637504,768629792768,22748079183872]$\n",
    "\n",
    "Plot $<S(E)>$ and $log(g_{exact})$ for the first 10 coefficients, as well as their difference.\n",
    "\n",
    "Verify if your estimated $<S(E)>$ is approximately $\\sigma_E$ from exact result. To do that, plot $<S(E)>-S_{exact}$ and $\\sigma_E$ for the first 10 energies.\n",
    "\n",
    "* Calculate thermodynamics from your best estimation of $g(E)$."
   ]
  },
  {
   "cell_type": "code",
   "execution_count": null,
   "metadata": {},
   "outputs": [],
   "source": []
  }
 ],
 "metadata": {
  "kernelspec": {
   "display_name": "Python 3 (ipykernel)",
   "language": "python",
   "name": "python3"
  },
  "language_info": {
   "codemirror_mode": {
    "name": "ipython",
    "version": 3
   },
   "file_extension": ".py",
   "mimetype": "text/x-python",
   "name": "python",
   "nbconvert_exporter": "python",
   "pygments_lexer": "ipython3",
   "version": "3.9.1"
  }
 },
 "nbformat": 4,
 "nbformat_minor": 2
}
