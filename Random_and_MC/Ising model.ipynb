{
 "cells": [
  {
   "cell_type": "markdown",
   "metadata": {},
   "source": [
    "# Simulation of the Ising model"
   ]
  },
  {
   "cell_type": "code",
   "execution_count": 1,
   "metadata": {},
   "outputs": [],
   "source": [
    "from numba import jit\n",
    "from numpy import *\n",
    "from numpy import random\n",
    "\n",
    "N = 20 # size of the Ising system N x N\n",
    "\n",
    "@jit(nopython=True)\n",
    "def CEnergy(latt):\n",
    "    \"Energy of a 2D Ising lattice at particular configuration\"\n",
    "    Ene = 0\n",
    "    for i in range(len(latt)):\n",
    "        for j in range(len(latt)):\n",
    "            S = latt[i,j]\n",
    "            #      right                 below             left                above\n",
    "            WF = latt[(i+1)%N, j] + latt[i,(j+1)%N] + latt[(i-1)%N,j] + latt[i,(j-1)%N]\n",
    "            Ene += -WF*S # Each neighbor gives energy -J==-1\n",
    "    return Ene/2. # Each pair counted twice\n",
    "\n",
    "\n",
    "def RandomL(N):\n",
    "    \"Radom lattice, corresponding to infinite temerature\"\n",
    "    latt = sign(2*random.random((N,N))-1)\n",
    "    latt = array( latt, dtype=int)\n",
    "    return latt\n",
    "\n",
    "def Exponents(T):\n",
    "    PW = zeros(9, dtype=float)\n",
    "    # Precomputed exponents : PW[4+x]=exp(-x*2/T)\n",
    "    PW[4+4] = exp(-4.*2/T)\n",
    "    PW[4+2] = exp(-2.*2/T)\n",
    "    PW[4+0] = 1.0\n",
    "    PW[4-2] = exp( 2.*2/T)\n",
    "    PW[4-4] = exp( 4.*2/T)\n",
    "    return PW"
   ]
  },
  {
   "cell_type": "code",
   "execution_count": 2,
   "metadata": {},
   "outputs": [
    {
     "name": "stdout",
     "output_type": "stream",
     "text": [
      "[[-1  1 -1  1 -1  1  1 -1 -1  1  1 -1  1 -1 -1  1  1 -1 -1  1]\n",
      " [-1  1  1 -1 -1 -1 -1 -1  1 -1  1 -1 -1 -1  1 -1 -1  1  1 -1]\n",
      " [ 1  1 -1  1 -1 -1 -1 -1  1  1  1  1 -1 -1 -1 -1 -1 -1  1 -1]\n",
      " [-1 -1  1 -1  1  1  1 -1  1 -1 -1 -1  1  1  1  1  1 -1 -1  1]\n",
      " [-1  1 -1  1 -1 -1 -1  1 -1 -1 -1 -1  1  1 -1  1 -1  1  1  1]\n",
      " [-1 -1 -1  1  1  1 -1 -1 -1 -1 -1  1  1 -1  1 -1 -1  1  1  1]\n",
      " [-1 -1 -1 -1 -1  1 -1 -1  1 -1 -1 -1  1  1 -1  1  1  1 -1 -1]\n",
      " [-1 -1  1 -1  1  1  1  1 -1 -1 -1  1  1 -1 -1  1  1  1 -1  1]\n",
      " [ 1 -1  1  1 -1  1 -1 -1  1  1 -1 -1 -1 -1 -1  1 -1 -1  1 -1]\n",
      " [ 1 -1  1  1  1 -1  1 -1  1  1  1 -1  1  1 -1  1  1 -1 -1  1]\n",
      " [ 1 -1 -1  1 -1 -1  1 -1  1 -1 -1 -1 -1 -1  1 -1 -1  1 -1  1]\n",
      " [ 1  1  1  1 -1  1  1  1  1  1 -1  1  1  1 -1 -1  1 -1  1 -1]\n",
      " [ 1 -1  1  1 -1 -1 -1  1  1  1 -1 -1 -1 -1  1 -1  1  1 -1  1]\n",
      " [-1 -1 -1  1  1  1 -1 -1 -1 -1 -1  1 -1 -1 -1 -1  1  1 -1  1]\n",
      " [ 1  1 -1  1 -1  1  1 -1  1  1  1 -1 -1 -1  1 -1  1  1  1  1]\n",
      " [ 1 -1  1  1  1 -1 -1  1 -1  1  1  1 -1  1  1  1 -1 -1 -1  1]\n",
      " [ 1 -1 -1 -1  1 -1  1  1 -1  1 -1 -1  1  1 -1 -1 -1 -1 -1  1]\n",
      " [ 1 -1  1  1 -1  1  1 -1 -1  1 -1 -1  1 -1 -1 -1  1 -1  1 -1]\n",
      " [ 1 -1 -1 -1 -1 -1  1 -1 -1  1  1  1  1  1 -1  1  1 -1  1  1]\n",
      " [ 1 -1  1 -1 -1  1  1  1  1 -1 -1 -1  1 -1  1  1 -1  1  1 -1]]\n",
      "Energy= 40.0\n",
      "Exponents= [5.45981500e+01 0.00000000e+00 7.38905610e+00 0.00000000e+00\n",
      " 1.00000000e+00 0.00000000e+00 1.35335283e-01 0.00000000e+00\n",
      " 1.83156389e-02]\n"
     ]
    }
   ],
   "source": [
    "latt = RandomL(N)\n",
    "print(latt)\n",
    "print('Energy=', CEnergy(latt))\n",
    "T=2.\n",
    "PW = Exponents(T)\n",
    "\n",
    "print('Exponents=', PW)"
   ]
  },
  {
   "cell_type": "code",
   "execution_count": 3,
   "metadata": {},
   "outputs": [],
   "source": [
    "@jit(nopython=True)\n",
    "def SamplePython(Nitt, latt, PW, warm, measure):\n",
    "    \"Monte Carlo sampling for the Ising model in Pythons\"\n",
    "    Ene = CEnergy(latt)  # Starting energy\n",
    "    Mn  =sum(latt)         # Starting magnetization\n",
    "    N   = len(latt)\n",
    "    \n",
    "    N1=0       # Measurements\n",
    "    E1,M1,E2,M2=0.0,0.0,0.0,0.0\n",
    "    \n",
    "    N2 = N*N\n",
    "    for itt in range(Nitt):\n",
    "        t = int(random.rand()*N2)\n",
    "        (i,j) = (t % N, int(t/N))\n",
    "        S = latt[i,j]\n",
    "        WF = latt[(i+1)%N, j] + latt[i,(j+1)%N] + latt[(i-1)%N,j] + latt[i,(j-1)%N]\n",
    "        # new configuration -S, old configuration S => magnetization change -2*S\n",
    "        # energy change = (-J)*WF*(-S) - (-J)*WF*(S) = 2*J**WF*S\n",
    "        # We will prepare : PW[4+x]=exp(-x*2/T)\n",
    "        # P = exp(-2*WF*S/T) = exp(-(WF*S)*2/T) == PW[4+WF*S],\n",
    "        # because PW[4+x]=exp(-x*2/T)\n",
    "        P = PW[4+S*WF]\n",
    "        if P>random.rand(): # flip the spin\n",
    "            latt[i,j] = -S\n",
    "            Ene += 2*S*WF\n",
    "            Mn -= 2*S\n",
    "            \n",
    "        if itt>warm and itt%measure==0:\n",
    "            N1 += 1\n",
    "            E1 += Ene\n",
    "            M1 += Mn\n",
    "            E2 += Ene*Ene\n",
    "            M2 += Mn*Mn\n",
    "       \n",
    "    E,M = E1/N1, M1/N1\n",
    "    cv = (E2/N1-E**2)/T**2   #   cv =(<E^2>-<E>^2)/T^2\n",
    "    chi = (M2/N1-M**2)/T     #   chi=(<M^2>-<M>^2)/T\n",
    "    return (M/N2, E/N2, cv/N2, chi/N2)"
   ]
  },
  {
   "cell_type": "code",
   "execution_count": 4,
   "metadata": {},
   "outputs": [
    {
     "name": "stdout",
     "output_type": "stream",
     "text": [
      "<M>= -0.0022671394575309637 <E>= -0.0043560907492405975 cv= 0.854206229135707 chi= 0.8220380819826824\n"
     ]
    }
   ],
   "source": [
    "Nitt = 5000000  # total number of Monte Carlo steps\n",
    "warm = 1000      # Number of warmup steps\n",
    "measure=5        # How often to take a measurement\n",
    "\n",
    "\n",
    "(M, E, cv, chi) = SamplePython(Nitt, latt, PW, warm, measure)\n",
    "#(aM, aE, cv, chi) = SampleCPP(Nitt, latt, PW,T, warm, measure)\n",
    "print('<M>=', M/(N*N), '<E>=', E/(N*N) , 'cv=', cv, 'chi=',chi)"
   ]
  },
  {
   "cell_type": "code",
   "execution_count": 5,
   "metadata": {},
   "outputs": [
    {
     "name": "stdout",
     "output_type": "stream",
     "text": [
      "T= 5.0 M= -0.0006076971471265725 E= -0.42801614124439014 cv= 0.6103457090387746 chi= 1.426315140024312\n",
      "T= 4.844827586206897 M= 0.0017991966385243435 E= -0.4418382294841263 cv= 0.6094220129806377 chi= 1.4759200033436202\n",
      "T= 4.689655172413793 M= 0.0015569529475424559 E= -0.4598804059615983 cv= 0.6220639148609735 chi= 1.5689099678562866\n",
      "T= 4.5344827586206895 M= 0.0022788280444369317 E= -0.4806930793089411 cv= 0.6305427528556902 chi= 1.6454676563085975\n",
      "T= 4.379310344827586 M= 0.0028126253376928763 E= -0.4992516395795555 cv= 0.6359131954772738 chi= 1.7099829323279756\n",
      "T= 4.224137931034483 M= -0.0023056784413667147 E= -0.5208926494225339 cv= 0.658296481309726 chi= 1.9150869005613698\n",
      "T= 4.068965517241379 M= 0.0019239117062529567 E= -0.5464233911016114 cv= 0.6806689684632921 chi= 2.090123421354738\n",
      "T= 3.913793103448276 M= 0.0016949756901137127 E= -0.5745766899146729 cv= 0.7136864329319315 chi= 2.2040539068095457\n",
      "T= 3.7586206896551726 M= -0.0007492005893184531 E= -0.6029416812779369 cv= 0.7052019006430555 chi= 2.357843098722557\n",
      "T= 3.603448275862069 M= -0.0020572885149915134 E= -0.633571717915301 cv= 0.7391974182135073 chi= 2.7406095004467352\n",
      "T= 3.4482758620689653 M= -0.002872337339805301 E= -0.6740253290911472 cv= 0.7749134158532069 chi= 3.2466860712045205\n",
      "T= 3.293103448275862 M= 0.0015505266558578272 E= -0.7168748118371792 cv= 0.8035926983397712 chi= 3.918034970093027\n",
      "T= 3.1379310344827585 M= 0.002246486543795303 E= -0.7650627876203118 cv= 0.8664190135724311 chi= 4.405047001966516\n",
      "T= 2.9827586206896552 M= 6.129732076147305e-05 E= -0.8248723393402073 cv= 0.8767035655198379 chi= 6.000644983320387\n",
      "T= 2.8275862068965516 M= -0.0009210951401231647 E= -0.8938862811425097 cv= 0.9806922245992246 chi= 8.068800999855874\n",
      "T= 2.6724137931034484 M= 0.007167545676681013 E= -0.9786811249061061 cv= 1.1467113908007922 chi= 13.006730550858444\n",
      "T= 2.5172413793103448 M= 0.007665825830992029 E= -1.0979546188783944 cv= 1.478011936095936 chi= 24.773139121177543\n",
      "T= 2.362068965517241 M= -0.09791527096946487 E= -1.2812941101161335 cv= 2.217117612202637 chi= 58.61562132557332\n",
      "T= 2.206896551724138 M= -0.2363942452432939 E= -1.5384960076975471 cv= 1.7251503714061256 chi= 113.61954445762187\n",
      "T= 2.0517241379310343 M= 0.8947557058968854 E= -1.7086696425981622 cv= 0.8198416286596694 chi= 0.49536309946033724\n",
      "T= 1.896551724137931 M= 0.9384624109445998 E= -1.811046310308372 cv= 0.5086828907396557 chi= 0.2271905343167964\n",
      "T= 1.7413793103448274 M= 0.9657301517605039 E= -1.8848426133652865 cv= 0.28372927052594604 chi= 0.07012794783029676\n",
      "T= 1.5862068965517242 M= 0.980718989516893 E= -1.9317554628480322 cv= 0.15795771646109644 chi= 0.031119701656170947\n",
      "T= 1.4310344827586206 M= 0.9901400131426417 E= -1.9636140664273518 cv= 0.07921927799652621 chi= 0.013397377925030015\n",
      "T= 1.275862068965517 M= 0.9954965898145527 E= -1.982981339249189 cv= 0.037461169979796975 chi= 0.005761017589175026\n",
      "T= 1.1206896551724137 M= 0.9981947121371395 E= -1.99301130527236 cv= 0.014694399895961396 chi= 0.002067388705945632\n",
      "T= 0.9655172413793105 M= 0.9994910577025982 E= -1.9980063692802252 cv= 0.004034304439264815 chi= 0.0005440953234574408\n",
      "T= 0.8103448275862064 M= 0.9998988796748146 E= -1.9995973790731938 cv= 0.0008070951233094092 chi= 0.0001024959487040178\n",
      "T= 0.6551724137931032 M= 0.9999881726226971 E= -1.9999526904907887 cv= 9.439519941224717e-05 chi= 1.179939994472079e-05\n",
      "T= 0.5 M= 1.0 E= -2.0 cv= 0.0 chi= 0.0\n"
     ]
    }
   ],
   "source": [
    "wT = linspace(5,0.5,30)\n",
    "wMag=[]\n",
    "wEne=[]\n",
    "wCv=[]\n",
    "wChi=[]\n",
    "N2 = N*N\n",
    "for T in wT:\n",
    "    # Precomputed exponents : PW[4+x]=exp(-x*2/T)\n",
    "    PW = Exponents(T)\n",
    "    \n",
    "    (M, E, cv, chi) = SamplePython(Nitt, latt, PW, warm, measure)\n",
    "    wMag.append( M )\n",
    "    wEne.append( E )\n",
    "    wCv.append(  cv )\n",
    "    wChi.append( chi )\n",
    "    print('T=',T, 'M=', M, 'E=', E, 'cv=', cv, 'chi=', chi)"
   ]
  },
  {
   "cell_type": "code",
   "execution_count": 6,
   "metadata": {},
   "outputs": [
    {
     "data": {
      "image/png": "[encoded data removed]",
      "text/plain": [
       "<Figure size 432x288 with 1 Axes>"
      ]
     },
     "metadata": {
      "needs_background": "light"
     },
     "output_type": "display_data"
    },
    {
     "data": {
      "image/png": "[encoded data removed]",
      "text/plain": [
       "<Figure size 432x288 with 1 Axes>"
      ]
     },
     "metadata": {
      "needs_background": "light"
     },
     "output_type": "display_data"
    }
   ],
   "source": [
    "from pylab import *\n",
    "%matplotlib inline\n",
    "\n",
    "plot(wT, wEne, label='E(T)')\n",
    "plot(wT, wCv, label='cv(T)')\n",
    "plot(wT, wMag, label='M(T)')\n",
    "xlabel('T')\n",
    "legend(loc='best')\n",
    "show()\n",
    "plot(wT, wChi, label='chi(T)')\n",
    "xlabel('T')\n",
    "legend(loc='best')\n",
    "show() "
   ]
  },
  {
   "cell_type": "code",
   "execution_count": null,
   "metadata": {},
   "outputs": [],
   "source": []
  }
 ],
 "metadata": {
  "kernelspec": {
   "display_name": "Python 3 (ipykernel)",
   "language": "python",
   "name": "python3"
  },
  "language_info": {
   "codemirror_mode": {
    "name": "ipython",
    "version": 3
   },
   "file_extension": ".py",
   "mimetype": "text/x-python",
   "name": "python",
   "nbconvert_exporter": "python",
   "pygments_lexer": "ipython3",
   "version": "3.9.1"
  }
 },
 "nbformat": 4,
 "nbformat_minor": 2
}
